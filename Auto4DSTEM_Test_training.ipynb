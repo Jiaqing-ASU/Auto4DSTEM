{
 "cells": [
  {
   "cell_type": "markdown",
   "id": "f8c6e7d6",
   "metadata": {},
   "source": [
    "# Extremely Noisy 4-D STEM Strain Mapping Using Cycle Consistent Spatial Transforming Autoencoders (Simulated 4dstem)"
   ]
  },
  {
   "cell_type": "markdown",
   "id": "fd1a40a8",
   "metadata": {},
   "source": [
    "## Package Installation"
   ]
  },
  {
   "cell_type": "code",
   "execution_count": 1,
   "id": "3c2b5344",
   "metadata": {},
   "outputs": [
    {
     "name": "stdout",
     "output_type": "stream",
     "text": [
      "Looking in indexes: https://test.pypi.org/simple/\n",
      "Requirement already satisfied: Auto4DSTEM==0.7.1 in /Users/chenjiaqing/anaconda3/envs/auto4dstem/lib/python3.10/site-packages (0.7.1)\n"
     ]
    }
   ],
   "source": [
    "import sys\n",
    "!{sys.executable} -m pip install -i https://test.pypi.org/simple/ Auto4DSTEM==0.7.1"
   ]
  },
  {
   "cell_type": "markdown",
   "id": "eae9ffb5",
   "metadata": {},
   "source": [
    "## Package Loading"
   ]
  },
  {
   "cell_type": "code",
   "execution_count": 2,
   "id": "21230171",
   "metadata": {},
   "outputs": [],
   "source": [
    "%load_ext autoreload\n",
    "%autoreload 2\n",
    "import os\n",
    "import torch\n",
    "import pickle\n",
    "import warnings\n",
    "import numpy as np\n",
    "import matplotlib.pyplot as plt\n",
    "import matplotlib.pylab as pylab\n",
    "from cmcrameri import cm\n",
    "from auto4dstem.nn.Train_Function import TrainClass\n",
    "from auto4dstem.Viz.util import download_files_from_txt,download_files_from_txt,mask_class\n",
    "from auto4dstem.Viz.viz import set_format_Auto4D, visualize_simulate_result, visual_performance_plot,normalized_strain_matrices"
   ]
  },
  {
   "cell_type": "markdown",
   "id": "d5c1b02c",
   "metadata": {},
   "source": [
    "## Device Setting"
   ]
  },
  {
   "cell_type": "code",
   "execution_count": 3,
   "id": "29965f80",
   "metadata": {},
   "outputs": [
    {
     "name": "stdout",
     "output_type": "stream",
     "text": [
      "Using CPU\n"
     ]
    }
   ],
   "source": [
    "os.environ[\"CUDA_DEVICE_ORDER\"]=\"PCI_BUS_ID\"\n",
    "os.environ[\"CUDA_VISIBLE_DEVICES\"]=\"1\"\n",
    "\n",
    "if torch.cuda.is_available():\n",
    "    device = torch.device('cuda')\n",
    "    print(\"Using GPU\")\n",
    "else:\n",
    "    device = torch.device('cpu')\n",
    "    print(\"Using CPU\")"
   ]
  },
  {
   "cell_type": "markdown",
   "id": "baa99eb2",
   "metadata": {},
   "source": [
    "## Visualization Format "
   ]
  },
  {
   "cell_type": "code",
   "execution_count": 4,
   "id": "d945b34a",
   "metadata": {},
   "outputs": [],
   "source": [
    "set_format = set_format_Auto4D()\n",
    "pylab.rcParams.update(set_format)"
   ]
  },
  {
   "cell_type": "code",
   "execution_count": 5,
   "id": "412afc50",
   "metadata": {},
   "outputs": [],
   "source": [
    "warnings.filterwarnings('ignore') "
   ]
  },
  {
   "cell_type": "markdown",
   "id": "5eb49ec8",
   "metadata": {},
   "source": [
    "## Download Data and Pre-Trained Models"
   ]
  },
  {
   "cell_type": "code",
   "execution_count": 6,
   "id": "5e43974f",
   "metadata": {},
   "outputs": [],
   "source": [
    "folder_name = 'Extremely_Noisy_4DSTEM_Strain_Mapping_Using_CC_ST_AE_Simulated'\n",
    "file_download =  \"simulated_label_weights_affine_para_simple\""
   ]
  },
  {
   "cell_type": "code",
   "execution_count": 7,
   "id": "b0ace36c",
   "metadata": {
    "scrolled": true
   },
   "outputs": [
    {
     "name": "stderr",
     "output_type": "stream",
     "text": [
      " 33%|███▎      | 1/3 [00:00<00:01,  1.13it/s]"
     ]
    },
    {
     "name": "stdout",
     "output_type": "stream",
     "text": [
      "File already exists: 25Percent_pretrained_rotation.npy\n"
     ]
    },
    {
     "name": "stderr",
     "output_type": "stream",
     "text": [
      " 67%|██████▋   | 2/3 [00:01<00:00,  1.18it/s]"
     ]
    },
    {
     "name": "stdout",
     "output_type": "stream",
     "text": [
      "File already exists: 25percent_noisy_simulated_4dstem_pretrained_weights.pkl\n"
     ]
    },
    {
     "name": "stderr",
     "output_type": "stream",
     "text": [
      "100%|██████████| 3/3 [00:02<00:00,  1.21it/s]"
     ]
    },
    {
     "name": "stdout",
     "output_type": "stream",
     "text": [
      "File already exists: polycrystal_output4D.mat\n"
     ]
    },
    {
     "name": "stderr",
     "output_type": "stream",
     "text": [
      "\n"
     ]
    }
   ],
   "source": [
    "# check where are you from the root path\n",
    "download_files_from_txt(file_download,folder_name)"
   ]
  },
  {
   "cell_type": "markdown",
   "id": "278cd0cf",
   "metadata": {},
   "source": [
    "## Build mask for training and generating results"
   ]
  },
  {
   "cell_type": "markdown",
   "id": "81acd179",
   "metadata": {},
   "source": [
    "### Build Mask"
   ]
  },
  {
   "cell_type": "code",
   "execution_count": 8,
   "id": "ce7296f3",
   "metadata": {},
   "outputs": [],
   "source": [
    "# set mask class\n",
    "set_mask = mask_class()\n",
    "# generate mask \n",
    "#mask_tensor, mask_list = set_mask.mask_ring(radius_1=50, radius_2 = 85)\n",
    "mask_tensor, mask_list = set_mask.mask_round(radius=7, center_list=[(99,162),(154,130),(99,36),(154,68),(45,68),(45,130)])"
   ]
  },
  {
   "cell_type": "markdown",
   "id": "52b9a78e",
   "metadata": {},
   "source": [
    "## Benchmark Simulated 4DSTEM Dataset"
   ]
  },
  {
   "cell_type": "markdown",
   "id": "f7db16cd",
   "metadata": {},
   "source": [
    "### Set BKG level, Load Data and Pre-Trained Weights"
   ]
  },
  {
   "cell_type": "code",
   "execution_count": 9,
   "id": "462c6659",
   "metadata": {},
   "outputs": [],
   "source": [
    "bkg_intensity = 0.25\n",
    "bkg_str = format(int(bkg_intensity*100),'02d')\n",
    "data_path = os.path.abspath(f'{folder_name}/polycrystal_output4D.mat')\n",
    "rotation_path = f'{folder_name}/{bkg_str}Percent_pretrained_rotation.npy'"
   ]
  },
  {
   "cell_type": "code",
   "execution_count": null,
   "id": "32558886",
   "metadata": {},
   "outputs": [],
   "source": []
  },
  {
   "cell_type": "markdown",
   "id": "7aaff678",
   "metadata": {},
   "source": [
    "## Initialize the training class from noise-free simulated dataset"
   ]
  },
  {
   "cell_type": "code",
   "execution_count": 10,
   "id": "f3dbd83b",
   "metadata": {},
   "outputs": [],
   "source": [
    "rotation_ = np.load(rotation_path)"
   ]
  },
  {
   "cell_type": "code",
   "execution_count": 11,
   "id": "d049a4ab",
   "metadata": {},
   "outputs": [
    {
     "data": {
      "text/plain": [
       "(65536, 2)"
      ]
     },
     "execution_count": 11,
     "metadata": {},
     "output_type": "execute_result"
    }
   ],
   "source": [
    "rotation_.shape"
   ]
  },
  {
   "cell_type": "code",
   "execution_count": 12,
   "id": "4427fc0c",
   "metadata": {},
   "outputs": [],
   "source": [
    "import h5py"
   ]
  },
  {
   "cell_type": "code",
   "execution_count": 13,
   "id": "06177f00",
   "metadata": {},
   "outputs": [],
   "source": [
    "# f = h5py.File(data_path,'r')\n",
    "# op4d = f['output4D']\n",
    "# test_data = op4d[0:16,0:16]\n",
    "# np.save('test_4dstem_16x16.npy',test_data)"
   ]
  },
  {
   "cell_type": "code",
   "execution_count": 14,
   "id": "d0b24e88",
   "metadata": {},
   "outputs": [],
   "source": [
    "# test_rotation = rotation_[0:16*16]\n",
    "# np.save('test_rotation_256.npy',test_rotation)"
   ]
  },
  {
   "cell_type": "code",
   "execution_count": 15,
   "id": "721815fa",
   "metadata": {},
   "outputs": [
    {
     "name": "stdout",
     "output_type": "stream",
     "text": [
      "/Users/chenjiaqing/Documents/GitHub/Auto4DSTEM/Extremely_Noisy_4DSTEM_Strain_Mapping_Using_CC_ST_AE_Simulated/polycrystal_output4D.mat\n",
      "add Poison distributed background noise to whole dataset\n"
     ]
    },
    {
     "name": "stderr",
     "output_type": "stream",
     "text": [
      "100%|██████████| 65536/65536 [01:45<00:00, 620.58it/s]\n"
     ]
    },
    {
     "name": "stdout",
     "output_type": "stream",
     "text": [
      "add image-rotation pair to whole dataset\n"
     ]
    },
    {
     "name": "stderr",
     "output_type": "stream",
     "text": [
      "100%|██████████| 65536/65536 [00:00<00:00, 182174.56it/s]\n"
     ]
    }
   ],
   "source": [
    "tc = TrainClass(data_path,\n",
    "                device = device, \n",
    "                transpose = (1,0,3,2),\n",
    "                background_weight=bkg_intensity,\n",
    "                learned_rotation=rotation_path,\n",
    "                adjust_learned_rotation = -15,\n",
    "                num_base=1,\n",
    "                up_size=800,\n",
    "                scale_limit=0.05,\n",
    "                shear_limit=0.1,\n",
    "                rotation_limit=0.1,\n",
    "                trans_limit = 0.15,\n",
    "                adj_mask_para=0,\n",
    "                num_mask = 6,\n",
    "                fixed_mask = mask_list,\n",
    "                check_mask = None,\n",
    "                interpolate = True,\n",
    "                revise_affine = True,\n",
    "                folder_path = folder_name\n",
    "                )"
   ]
  },
  {
   "cell_type": "markdown",
   "id": "32d80016",
   "metadata": {},
   "source": [
    "## Test Training Process"
   ]
  },
  {
   "cell_type": "code",
   "execution_count": 16,
   "id": "b7ae18be",
   "metadata": {},
   "outputs": [],
   "source": [
    "tc.folder_path = 'test_loss_function'"
   ]
  },
  {
   "cell_type": "code",
   "execution_count": 17,
   "id": "11352f5a",
   "metadata": {},
   "outputs": [
    {
     "data": {
      "text/plain": [
       "(65536, 1, 200, 200)"
      ]
     },
     "execution_count": 17,
     "metadata": {},
     "output_type": "execute_result"
    }
   ],
   "source": [
    "tc.data_set.shape"
   ]
  },
  {
   "cell_type": "code",
   "execution_count": 18,
   "id": "889f7427",
   "metadata": {},
   "outputs": [
    {
     "name": "stdout",
     "output_type": "stream",
     "text": [
      "\n",
      "\n"
     ]
    },
    {
     "name": "stderr",
     "output_type": "stream",
     "text": [
      "  1%|          | 41/4096 [14:30<24:08:27, 21.43s/it]"
     ]
    }
   ],
   "source": [
    "tc.batch_size = 16\n",
    "tc.train_process()"
   ]
  }
 ],
 "metadata": {
  "kernelspec": {
   "display_name": "auto4dstem",
   "language": "python",
   "name": "python3"
  },
  "language_info": {
   "codemirror_mode": {
    "name": "ipython",
    "version": 3
   },
   "file_extension": ".py",
   "mimetype": "text/x-python",
   "name": "python",
   "nbconvert_exporter": "python",
   "pygments_lexer": "ipython3",
   "version": "3.10.14"
  }
 },
 "nbformat": 4,
 "nbformat_minor": 5
}
