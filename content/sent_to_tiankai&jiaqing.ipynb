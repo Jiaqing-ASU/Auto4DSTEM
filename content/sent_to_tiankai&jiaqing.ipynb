{
 "cells": [
  {
   "cell_type": "markdown",
   "id": "b4e6a4c1",
   "metadata": {},
   "source": [
    "# Import Functions"
   ]
  },
  {
   "cell_type": "code",
   "execution_count": 1,
   "id": "932063ff",
   "metadata": {},
   "outputs": [],
   "source": [
    "import os\n",
    "os.environ[\"CUDA_DEVICE_ORDER\"]=\"PCI_BUS_ID\"\n",
    "os.environ[\"CUDA_VISIBLE_DEVICES\"]=\"0\"\n",
    "from pathlib import Path\n",
    "import numpy as np\n",
    "#import hyperspy.api as hs\n",
    "import matplotlib.pyplot as plt\n",
    "#from dask_ml.preprocessing import StandardScaler\n",
    "from sklearn.preprocessing import StandardScaler\n",
    "import torch\n",
    "from torch.autograd import Variable\n",
    "import torchvision\n",
    "import torch.nn as nn\n",
    "import torch.nn.functional as F\n",
    "from torchvision import datasets, models,transforms\n",
    "import torch.optim as optim\n",
    "from torch.optim import lr_scheduler\n",
    "from torch.utils.data import Dataset, DataLoader\n",
    "import numpy as np \n",
    "import matplotlib.pyplot as plt \n",
    "from torch.autograd import Function\n",
    "from collections import OrderedDict\n",
    "import torch.nn as nn\n",
    "import math\n",
    "import torchvision.models as models\n",
    "import torchvision\n",
    "import torchvision.transforms as transforms\n",
    "import pickle\n",
    "import torch.autograd as autograd\n",
    "import matplotlib.gridspec as gridspec\n",
    "import os\n",
    "import h5py\n",
    "# from torchsummary import summary\n",
    "# import pytorch_model_summary as pms\n",
    "from tqdm import tqdm\n",
    "#import torch.tensor as tensor\n",
    "from scipy import ndimage\n",
    "import matplotlib.pyplot as plt\n",
    "import skimage\n",
    "from skimage.feature import peak_local_max\n",
    "from skimage import data, img_as_float,feature\n",
    "from skimage import io\n",
    "import cv2"
   ]
  },
  {
   "cell_type": "code",
   "execution_count": 2,
   "id": "5deb7560",
   "metadata": {},
   "outputs": [],
   "source": [
    "import matplotlib.pylab as pylab\n",
    "\n",
    "params = {'axes.titlesize':20,\n",
    "          'xtick.direction': 'in' ,\n",
    "          'ytick.direction' : 'in',\n",
    "          'xtick.top' : True,\n",
    "          'ytick.right' : True,\n",
    "          'ytick.labelsize':16,\n",
    "          'xtick.labelsize':16\n",
    "         }\n",
    "\n",
    "pylab.rcParams.update(params)"
   ]
  },
  {
   "cell_type": "code",
   "execution_count": 3,
   "id": "35088600",
   "metadata": {},
   "outputs": [
    {
     "data": {
      "text/plain": [
       "'2.2.0+cu121'"
      ]
     },
     "execution_count": 3,
     "metadata": {},
     "output_type": "execute_result"
    }
   ],
   "source": [
    "torch.__version__"
   ]
  },
  {
   "cell_type": "code",
   "execution_count": 4,
   "id": "1cb9d2f5",
   "metadata": {},
   "outputs": [],
   "source": [
    "#import atomai as aoi\n",
    "#import kornia as K\n",
    "import cv2\n",
    "import scipy\n",
    "import argparse\n",
    "import skimage\n",
    "from skimage.util import random_noise\n",
    "from skimage import feature\n",
    "import glob\n",
    "from scipy import ndimage\n",
    "import scipy as sp\n",
    "import random"
   ]
  },
  {
   "cell_type": "code",
   "execution_count": 5,
   "id": "50886064",
   "metadata": {},
   "outputs": [],
   "source": [
    "import warnings\n",
    "warnings.filterwarnings('ignore') "
   ]
  },
  {
   "cell_type": "code",
   "execution_count": 7,
   "id": "2380d956",
   "metadata": {},
   "outputs": [],
   "source": [
    "from functools import partial\n",
    "import numpy as np\n",
    "import os\n",
    "import torch\n",
    "import torch.nn as nn\n",
    "import torch.nn.functional as F\n",
    "import torch.optim as optim\n",
    "from torch.utils.data import random_split\n",
    "import torchvision\n",
    "import torchvision.transforms as transforms\n",
    "# from ray import tune\n",
    "# from ray.tune import CLIReporter\n",
    "# from ray.tune.schedulers import ASHAScheduler\n",
    "# from ray.air import session"
   ]
  },
  {
   "cell_type": "code",
   "execution_count": 8,
   "id": "439d6b04",
   "metadata": {},
   "outputs": [],
   "source": [
    "# import sys\n",
    "# !{sys.executable} -m pip install -U \"ray[tune]\""
   ]
  },
  {
   "cell_type": "code",
   "execution_count": 9,
   "id": "cef58765",
   "metadata": {},
   "outputs": [
    {
     "data": {
      "text/plain": [
       "1"
      ]
     },
     "execution_count": 9,
     "metadata": {},
     "output_type": "execute_result"
    }
   ],
   "source": [
    "torch.cuda.device_count()"
   ]
  },
  {
   "cell_type": "markdown",
   "id": "a8110a56",
   "metadata": {},
   "source": [
    "# Build two type of mask for two training process"
   ]
  },
  {
   "cell_type": "markdown",
   "id": "4dfb304e",
   "metadata": {},
   "source": [
    "## Set the mask function"
   ]
  },
  {
   "cell_type": "code",
   "execution_count": 10,
   "id": "92745d36",
   "metadata": {},
   "outputs": [],
   "source": [
    "def mask_function(img,radius=7,center_coordinates=(100,100)):\n",
    "    image = np.copy(img.squeeze())\n",
    "    thickness = -1\n",
    "    color = 100\n",
    "    image_2 = cv2.circle(image, center_coordinates, radius,color, thickness)\n",
    "    image_2 = np.array(image_2)\n",
    "    mask = (image_2==100)\n",
    "    mask = np.array(mask)\n",
    "\n",
    "    return mask"
   ]
  },
  {
   "cell_type": "markdown",
   "id": "e161f629",
   "metadata": {},
   "source": [
    "## Set a 200x200 image"
   ]
  },
  {
   "cell_type": "code",
   "execution_count": 11,
   "id": "ce11504f",
   "metadata": {},
   "outputs": [],
   "source": [
    "mean_ = np.zeros([200,200])"
   ]
  },
  {
   "cell_type": "markdown",
   "id": "b0638dfe",
   "metadata": {},
   "source": [
    "## Build Mask 1"
   ]
  },
  {
   "cell_type": "code",
   "execution_count": 13,
   "id": "e1663a93",
   "metadata": {},
   "outputs": [],
   "source": [
    "mask_0 = mask_function(mean_,radius=20,center_coordinates=(100,100))\n",
    "mask_1 = mask_function(mean_,radius=85,center_coordinates=(100,100))\n",
    "# mask_2 = mask_function(mean_,radius=12,center_coordinates=(163,113))\n",
    "# mask_3 = mask_function(mean_,radius=12,center_coordinates=(144,51))\n",
    "# mask_4 = mask_function(mean_,radius=12,center_coordinates=(80,38))\n",
    "# mask_5 = mask_function(mean_,radius=12,center_coordinates=(37,86))\n",
    "# Combine all components together\n",
    "mask_up_1 = ~mask_0*mask_1"
   ]
  },
  {
   "cell_type": "code",
   "execution_count": 14,
   "id": "458ed8f5",
   "metadata": {},
   "outputs": [],
   "source": [
    "new_mask_1 = torch.tensor(mask_up_1)\n",
    "mask_list_1 = [new_mask_1]"
   ]
  },
  {
   "cell_type": "markdown",
   "id": "3c3aa265",
   "metadata": {},
   "source": [
    "## Build Mask 2"
   ]
  },
  {
   "cell_type": "markdown",
   "id": "3c1de036",
   "metadata": {},
   "source": [
    "### define the original 6 dots mask framework "
   ]
  },
  {
   "cell_type": "code",
   "execution_count": 63,
   "id": "792bc439",
   "metadata": {},
   "outputs": [],
   "source": [
    "mask_0 = mask_function(mean_,radius=11,center_coordinates=(99,162))\n",
    "mask_1 = mask_function(mean_,radius=11,center_coordinates=(154,130))\n",
    "mask_2 = mask_function(mean_,radius=11,center_coordinates=(154,68))\n",
    "mask_3 = mask_function(mean_,radius=11,center_coordinates=(99,36))\n",
    "mask_4 = mask_function(mean_,radius=11,center_coordinates=(45,68))\n",
    "mask_5 = mask_function(mean_,radius=11,center_coordinates=(45,130))\n",
    "# Combine all components together\n",
    "\n",
    "mask_up_2 = mask_0+mask_1+mask_2+mask_3+mask_4+mask_5"
   ]
  },
  {
   "cell_type": "code",
   "execution_count": 64,
   "id": "fe7164a2",
   "metadata": {},
   "outputs": [
    {
     "data": {
      "text/plain": [
       "<matplotlib.image.AxesImage at 0x7ff7f71be350>"
      ]
     },
     "execution_count": 64,
     "metadata": {},
     "output_type": "execute_result"
    },
    {
     "data": {
      "image/png": "[encoded data removed]",
      "text/plain": [
       "<Figure size 640x480 with 1 Axes>"
      ]
     },
     "metadata": {},
     "output_type": "display_data"
    }
   ],
   "source": [
    "plt.imshow(mask_up_2)"
   ]
  },
  {
   "cell_type": "code",
   "execution_count": 65,
   "id": "b5ddf9a1",
   "metadata": {},
   "outputs": [],
   "source": [
    "mask_0 = torch.tensor(mask_0)\n",
    "mask_1 = torch.tensor(mask_1)\n",
    "mask_2 = torch.tensor(mask_2)\n",
    "mask_3 = torch.tensor(mask_3)\n",
    "mask_4 = torch.tensor(mask_4)\n",
    "mask_5 = torch.tensor(mask_5)"
   ]
  },
  {
   "cell_type": "code",
   "execution_count": 66,
   "id": "78dfd754",
   "metadata": {},
   "outputs": [],
   "source": [
    "mask_list_2 = [mask_0,mask_1,mask_2,mask_3,mask_4,mask_5]\n",
    "new_mask_2 = torch.tensor(mask_up_2)"
   ]
  },
  {
   "cell_type": "code",
   "execution_count": 67,
   "id": "f855ff38",
   "metadata": {},
   "outputs": [
    {
     "data": {
      "text/plain": [
       "<matplotlib.image.AxesImage at 0x7ff7f71da2f0>"
      ]
     },
     "execution_count": 67,
     "metadata": {},
     "output_type": "execute_result"
    },
    {
     "data": {
      "image/png": "[encoded data removed]",
      "text/plain": [
       "<Figure size 1000x500 with 2 Axes>"
      ]
     },
     "metadata": {},
     "output_type": "display_data"
    }
   ],
   "source": [
    "fig,ax=plt.subplots(1,2,figsize=(10,5))\n",
    "ax[0].imshow(mask_up_1)\n",
    "ax[1].imshow(mask_up_2)"
   ]
  },
  {
   "cell_type": "markdown",
   "id": "130fd141",
   "metadata": {},
   "source": [
    "# Loading Data"
   ]
  },
  {
   "cell_type": "code",
   "execution_count": 68,
   "id": "4663d22d",
   "metadata": {},
   "outputs": [],
   "source": [
    "# Set data direction\n",
    "data_dir = os.path.abspath(\"./polycrystal_output4D.mat\")"
   ]
  },
  {
   "cell_type": "markdown",
   "id": "2de65317",
   "metadata": {},
   "source": [
    "## Load data function 1 for first training process"
   ]
  },
  {
   "cell_type": "markdown",
   "id": "52d8b5d4",
   "metadata": {},
   "source": [
    "## Load data function 2 for second training process"
   ]
  },
  {
   "cell_type": "code",
   "execution_count": 69,
   "id": "ed8656e2",
   "metadata": {},
   "outputs": [],
   "source": [
    "def load_data_4_process2(data_dir, pre_rot, w_bg=0.60):\n",
    "    \n",
    "    '''\n",
    "    \n",
    "        data_dir: path of the dataset\n",
    "        label_index: path of the pretrained rotation \n",
    "    \n",
    "    '''\n",
    "    \n",
    "    f = h5py.File(data_dir,'r')\n",
    "    op4d = f['output4D']\n",
    "    op4d = op4d[:,:,28:228,28:228]\n",
    "    op4d = np.transpose(op4d, (1, 0, 3, 2))\n",
    "    op4d = op4d.reshape(-1,200,200)\n",
    "    f.close()\n",
    "    \n",
    "    if w_bg == 0:\n",
    "        \n",
    "        noisy_data = op4d*1e5/4\n",
    "    \n",
    "    else:\n",
    "    \n",
    "        noisy_data = np.zeros([65536,200,200])\n",
    "        im=np.zeros([200,200])\n",
    "        counts_per_probe = 1e5\n",
    "        for i in tqdm(range(65536),leave=True,total=65536):\n",
    "            test_img = np.copy(op4d[i])\n",
    "            qx = np.fft.fftfreq( im.shape[0], d = 1)\n",
    "            qy = np.fft.fftfreq( im.shape[1], d = 1)\n",
    "            qya, qxa = np.meshgrid(qy, qx)\n",
    "            qxa = np.fft.fftshift(qxa)\n",
    "            qya = np.fft.fftshift(qya) \n",
    "            qra2 = qxa**2 + qya**2\n",
    "            im_bg = 1./( 1 + qra2 / 1e-2**2 )\n",
    "            im_bg = im_bg / np.sum(im_bg) \n",
    "            int_comb = test_img * (1 - w_bg) + im_bg * w_bg \n",
    "            int_noisy = np.random.poisson(int_comb * counts_per_probe) / counts_per_probe\n",
    "            int_noisy = int_noisy*1e5/4\n",
    "            noisy_data[i] = int_noisy\n",
    "        \n",
    "    del op4d\n",
    "    \n",
    "    noisy_data = noisy_data.reshape(-1,1,200,200)\n",
    "    angle = np.mod(np.arctan2(\n",
    "        pre_rot[:,1].reshape(256,256),\n",
    "        pre_rot[:,0].reshape(256,256)),np.pi/3).reshape(-1)\n",
    "    \n",
    "    \n",
    "    # combine the data and label for test\n",
    "    whole_data_with_rotation = []\n",
    "    for i in tqdm(range(noisy_data.shape[0]),leave=True, total=noisy_data.shape[0]):\n",
    "        whole_data_with_rotation.append([noisy_data[i], angle[i]])\n",
    "        \n",
    "    return whole_data_with_rotation"
   ]
  },
  {
   "cell_type": "code",
   "execution_count": null,
   "id": "437d6892",
   "metadata": {},
   "outputs": [],
   "source": []
  },
  {
   "cell_type": "markdown",
   "id": "487be412",
   "metadata": {},
   "source": [
    "# Autoencoder"
   ]
  },
  {
   "cell_type": "code",
   "execution_count": 70,
   "id": "b319eeef",
   "metadata": {},
   "outputs": [],
   "source": [
    "def crop_small_square(center_coordinates,radius=50):\n",
    "    \n",
    "    center_coordinates = torch.round(center_coordinates)\n",
    "    \n",
    "    x_coor = (int(center_coordinates[0]-radius),int(center_coordinates[0]+radius))\n",
    "    \n",
    "    y_coor = (int(center_coordinates[1]-radius),int(center_coordinates[1]+radius))\n",
    "\n",
    "    return x_coor,y_coor"
   ]
  },
  {
   "cell_type": "code",
   "execution_count": 71,
   "id": "9b885179",
   "metadata": {},
   "outputs": [],
   "source": [
    "def center_of_mass(img,mask,coef=1.5):\n",
    "    \n",
    "    cor_x,cor_y = torch.where(mask!=0)\n",
    "    mean_mass = torch.mean(img[mask])\n",
    "    mass = F.relu(img[mask]-coef*mean_mass)\n",
    "    img_after = torch.clone(img)\n",
    "    img_after[mask] = mass\n",
    "    \n",
    "    sum_mass = torch.sum(mass)\n",
    "    \n",
    "    if sum_mass == 0:\n",
    "        weighted_x = torch.sum(cor_x)/len(cor_x)\n",
    "        weighted_y = torch.sum(cor_y)/len(cor_y)\n",
    "    else:\n",
    "        weighted_x = torch.sum(cor_x*mass)/sum_mass\n",
    "    \n",
    "        weighted_y = torch.sum(cor_y*mass)/sum_mass\n",
    "#    plt.figure()\n",
    "#    plt.imshow(img_after.detach().numpy(),clim=[0,1])\n",
    "#    plt.figure()\n",
    "#    plt.plot(weighted_y,weighted_x,'r.')\n",
    "    return weighted_x,weighted_y"
   ]
  },
  {
   "cell_type": "code",
   "execution_count": 72,
   "id": "c35b5837",
   "metadata": {},
   "outputs": [],
   "source": [
    "# image: batch input with affine transformation\n",
    "# mask: the mask added on the diffraction partten\n",
    "# batch_size: batch of the image\n",
    "# theta: the batch affine transformation parameter\n",
    "def revise_size_on_affine_gpu(image, \n",
    "                              mask_list, \n",
    "                              batch_size, \n",
    "                              theta,\n",
    "                              device,\n",
    "                              adj_para=None,\n",
    "                              radius=12,\n",
    "                              coef=2,\n",
    "                              pare_reverse=False):\n",
    "    \n",
    "#    img0 = np.zeros([image.shape[-1],image.shape[-1]])\n",
    "    # Add another mask dealing with the diffraction pattern only\n",
    "    np_img = np.zeros([radius*2,radius*2])\n",
    "    dot_size = int(4*image.shape[-1]/200)\n",
    "    small_square_mask = mask_function(np_img,radius=dot_size,center_coordinates=(radius,radius))\n",
    "    small_square_mask = torch.tensor(small_square_mask,dtype=torch.bool).to(device)\n",
    "\n",
    "    img = torch.clone(image).to(device)\n",
    "#    print(img.shape)\n",
    "    identity = torch.tensor([0,0,1],dtype= torch.float).reshape(1,1,3).repeat(batch_size,1,1).to(device)\n",
    "    new_theta = torch.cat((theta,identity),axis=1).to(device)\n",
    "    inver_theta = torch.linalg.inv(new_theta)[:,0:2].to(device)\n",
    "#    print(theta.shape)\n",
    "##    print(inver_theta.shape)\n",
    "#    print('....')\n",
    "    for j, mask in enumerate(mask_list):\n",
    "        if mask.shape[0]!= batch_size:\n",
    "            mask_ = mask.squeeze().unsqueeze(0).unsqueeze(1).repeat(batch_size,1,1,1).to(device)\n",
    "        else:\n",
    "            mask_ = mask.reshape(batch_size,1,mask.shape[-2],mask.shape[-1]).to(device)\n",
    "        \n",
    "#        print(mask_.shape)\n",
    "#        mask_ = torch.tensor(mask,dtype=torch.float,requires_grad=True).squeeze().unsqueeze(0).unsqueeze(1).repeat(batch_size,1,1,1)  \n",
    "#         grid = F.affine_grid(theta, mask_.size()) \n",
    "#         mask_apply_affine = F.grid_sample(mask_, grid)\n",
    "#         mask_apply_affine = torch.tensor(mask_apply_affine,dtype=torch.bool)\n",
    "\n",
    "        new_image = image*mask_.to(device)\n",
    "#        print(new_image.shape)\n",
    "#        new_image = new_image.detach().numpy()\n",
    "        for i in range(batch_size):\n",
    "    #        print(new_image[i].shape)\n",
    "            center_x,center_y = center_of_mass(new_image[i].squeeze(),mask_[i].squeeze(),coef)\n",
    "        \n",
    "            center = torch.tensor([center_x,center_y]).to(device)\n",
    " #           print(center)\n",
    "            x_coor,y_coor = crop_small_square(center_coordinates=center.clone(),radius = radius)\n",
    "            \n",
    "            \n",
    "            #crop small square on image after affine transformation\n",
    "\n",
    " \n",
    "         \n",
    "            small_image = img[i].squeeze()[x_coor[0]:x_coor[1],y_coor[0]:y_coor[1]].unsqueeze(0).unsqueeze(1).clone().to(device)\n",
    "            re_grid = F.affine_grid(inver_theta[i].unsqueeze(0).to(device), small_image.size()).to(device) \n",
    "            \n",
    "            if adj_para == None:\n",
    "                \n",
    "                re_aff_small_image = F.grid_sample(small_image, re_grid, mode = 'bicubic')\n",
    "                img[i,:,x_coor[0]:x_coor[1],y_coor[0]:y_coor[1]] = re_aff_small_image.squeeze()\n",
    "                \n",
    "            else:\n",
    "                \n",
    "                \n",
    "                small_image_copy = torch.clone(small_image.squeeze()).to(device)\n",
    "    #             print(small_image_copy.shape)\n",
    "    #             print(small_square_mask.shape)\n",
    "    # Use the same parameter to fit all the diffraction patterns in mask reigon \n",
    "                if pare_reverse:\n",
    "                    small_image_copy[small_square_mask]/=adj_para[i]\n",
    "                else:\n",
    "                    small_image_copy[small_square_mask]*=adj_para[i]\n",
    "                    \n",
    "                small_image_copy = small_image_copy.unsqueeze(0).unsqueeze(1)\n",
    "\n",
    "\n",
    "                re_aff_small_image = F.grid_sample(small_image_copy, re_grid, mode = 'bicubic')\n",
    "                img[i,:,x_coor[0]:x_coor[1],y_coor[0]:y_coor[1]] = re_aff_small_image.squeeze()\n",
    "            \n",
    "    return img"
   ]
  },
  {
   "cell_type": "code",
   "execution_count": 73,
   "id": "8ff4f29d",
   "metadata": {},
   "outputs": [],
   "source": [
    "class conv_block(nn.Module):\n",
    "    def __init__(self,t_size,n_step):\n",
    "        super(conv_block,self).__init__()\n",
    "        self.cov1d_1 = nn.Conv2d(t_size,t_size,3,stride=1,padding=1,padding_mode = 'zeros')\n",
    "        self.cov1d_2 = nn.Conv2d(t_size,t_size,3,stride=1,padding=1,padding_mode = 'zeros')\n",
    "        self.cov1d_3 = nn.Conv2d(t_size,t_size,3,stride=1,padding=1,padding_mode = 'zeros')\n",
    "        self.norm_3 = nn.LayerNorm(n_step)\n",
    "        self.relu_1 = nn.ReLU()\n",
    "        self.relu_2 = nn.ReLU()\n",
    "        self.relu_3 = nn.ReLU()\n",
    "#         self.relu_1 = nn.Tanh()\n",
    "#         self.relu_2 = nn.Tanh()\n",
    "#         self.relu_3 = nn.Tanh()\n",
    "        #self.drop = nn.Dropout(p=0.2)\n",
    "        \n",
    "    def forward(self,x):\n",
    "        x_input = x\n",
    "        out = self.cov1d_1(x)\n",
    "        out = self.relu_1(out)\n",
    "        out = self.cov1d_2(out)\n",
    "        out = self.relu_2(out)\n",
    "        out = self.cov1d_3(out)\n",
    "        out = self.norm_3(out)\n",
    "        out = self.relu_3(out)\n",
    "        #out = self.drop(out)\n",
    "        out = out.add(x_input)\n",
    "        \n",
    "        return out"
   ]
  },
  {
   "cell_type": "code",
   "execution_count": 74,
   "id": "5af15365",
   "metadata": {},
   "outputs": [],
   "source": [
    "class identity_block(nn.Module):\n",
    "    def __init__(self,t_size,n_step):\n",
    "        super(identity_block,self).__init__()\n",
    "        self.cov1d_1 = nn.Conv2d(t_size,t_size,3,stride=1,padding=1,padding_mode = 'zeros')\n",
    "        self.norm_1 = nn.LayerNorm(n_step)\n",
    "        #self.drop = nn.Dropout(p=0.2)\n",
    "        self.relu = nn.ReLU()\n",
    "#        self.relu = nn.Tanh()\n",
    "        \n",
    "    def forward(self,x):\n",
    "        x_input = x\n",
    "        out = self.cov1d_1(x)\n",
    "        out = self.norm_1(out)\n",
    "        out = self.relu(out)\n",
    "        #output = self.drop(x)\n",
    "        \n",
    "        return out"
   ]
  },
  {
   "cell_type": "markdown",
   "id": "7d17dc00",
   "metadata": {},
   "source": [
    "# Rules to use the model architecture \n",
    "### Mask should be included since we use affine transformation function, so the \"num_mask\" should never be \"None\"\n",
    "### The format of mask should be tensor list of the mask, so the fixed_mask should be the list of tenosr "
   ]
  },
  {
   "cell_type": "code",
   "execution_count": 75,
   "id": "00ba2873",
   "metadata": {},
   "outputs": [],
   "source": [
    "# narrow the range of the adjust parameter for the mask region, since it is not the noise free dataset,\n",
    "# this will increase the background noise's influence to the MSE loss\n",
    "# \n",
    "class Encoder(nn.Module):\n",
    "    def __init__(self,original_step_size,pool_list,embedding_size,conv_size,device,\n",
    "                 num_basis=2,fixed_mask=None, num_mask=1, interpolate = False, up_size=800):\n",
    "        super(Encoder,self).__init__()\n",
    "        \n",
    "        self.device = device\n",
    "        blocks = []\n",
    "        self.input_size_0 = original_step_size[0]\n",
    "        self.input_size_1 = original_step_size[1]\n",
    "        number_of_blocks = len(pool_list)\n",
    "        blocks.append(conv_block(t_size=conv_size, n_step=original_step_size))\n",
    "        blocks.append(identity_block(t_size=conv_size, n_step=original_step_size))\n",
    "        blocks.append(nn.MaxPool2d(pool_list[0], stride=pool_list[0]))\n",
    "        for i in range(1,number_of_blocks):\n",
    "            original_step_size = [original_step_size[0]//pool_list[i-1],original_step_size[1]//pool_list[i-1]]\n",
    "            blocks.append(conv_block(t_size=conv_size, n_step=original_step_size))\n",
    "            blocks.append(identity_block(t_size=conv_size, n_step=original_step_size))\n",
    "            blocks.append(nn.MaxPool2d(pool_list[i], stride=pool_list[i])) \n",
    "            \n",
    "        self.block_layer = nn.ModuleList(blocks)\n",
    "        self.layers=len(blocks)\n",
    "        original_step_size = [original_step_size[0]//pool_list[-1],original_step_size[1]//pool_list[-1]]\n",
    "        \n",
    "        input_size = original_step_size[0]*original_step_size[1]\n",
    "        self.cov2d = nn.Conv2d(1,conv_size,3,stride=1,padding=1,padding_mode = 'zeros')\n",
    "        self.cov2d_1 = nn.Conv2d(conv_size,1,3,stride=1,padding=1,padding_mode = 'zeros')\n",
    "        self.relu_1 = nn.ReLU()\n",
    "        self.relu_2 = nn.ReLU()\n",
    "        self.tanh = nn.Tanh()\n",
    "        self.before = nn.Linear(input_size,20)\n",
    "        self.embedding_size = embedding_size\n",
    "        self.mask_size = num_mask\n",
    "        \n",
    "        self.interpolate = interpolate\n",
    "        self.up_size = up_size\n",
    "        \n",
    "        if fixed_mask != None:\n",
    "        # Set the mask_ to upscale mask if the interpolate set True\n",
    "            if self.interpolate:\n",
    "                mask_with_inp = []\n",
    "                for mask_ in fixed_mask:\n",
    "                    temp_mask = torch.tensor(mask_.reshape(1,1,self.input_size_0,self.input_size_1),dtype=torch.float)\n",
    "                    temp_mask = F.interpolate(temp_mask, size=(self.up_size,self.up_size),mode = 'bicubic')\n",
    "                    temp_mask[temp_mask<0.5]=0\n",
    "                    temp_mask[temp_mask>=0.5]=1\n",
    "                    temp_mask = torch.tensor(temp_mask.squeeze(),dtype=torch.bool)\n",
    "                    mask_with_inp.append(temp_mask)\n",
    "                    \n",
    "                self.mask = mask_with_inp\n",
    "                \n",
    "            else:\n",
    "                \n",
    "                self.mask = fixed_mask\n",
    "        else:\n",
    "            self.mask = None\n",
    "            \n",
    "        if num_mask == None:\n",
    "            self.dense = nn.Linear(20+num_basis,self.embedding_size)\n",
    "        else:\n",
    "        # Set the all the adj parameter to be the same\n",
    "            self.dense = nn.Linear(20+num_basis,self.embedding_size+1)\n",
    "        \n",
    "        self.for_k = nn.Linear(20,num_basis)\n",
    "        self.norm = nn.LayerNorm(num_basis)\n",
    "        self.softmax = nn.Softmax()\n",
    "        self.num_k_sparse=1\n",
    "        \n",
    "    def ktop(self,x):\n",
    "        kout = self.for_k(x)\n",
    "        kout = self.norm(kout)\n",
    "        kout = self.softmax(kout)\n",
    "        k_no = kout.clone()\n",
    "\n",
    "        k = self.num_k_sparse\n",
    "        with torch.no_grad():\n",
    "            if k <= kout.shape[1]:\n",
    "                for raw in k_no:\n",
    "                    indices = torch.topk(raw, k)[1].to(self.device)\n",
    "                    mask = torch.ones(raw.shape, dtype=bool).to(self.device)\n",
    "                    mask[indices] = False\n",
    "                    raw[mask] = 0\n",
    "                    raw[~mask] = 1\n",
    "        return k_no\n",
    "    \n",
    "    \n",
    "\n",
    "    def find_type(self):\n",
    "       \n",
    "        return self.emoji\n",
    "    \n",
    "    def find_mask(self):\n",
    "       \n",
    "        return self.mask_size\n",
    "    \n",
    "    def rotate_mask(self):\n",
    "        \n",
    "        return self.mask\n",
    "    \n",
    "    def check_inp(self):\n",
    "        \n",
    "        return self.interpolate\n",
    "    \n",
    "    def check_upsize(self):\n",
    "        \n",
    "        return self.up_size\n",
    "    \n",
    "    def forward(self,x,rotate_value = None):\n",
    "\n",
    "        out = x.view(-1,1,self.input_size_0,self.input_size_1)\n",
    "        out = self.cov2d(out)\n",
    "        for i in range(self.layers):\n",
    "            out = self.block_layer[i](out)\n",
    "        out = self.cov2d_1(out)\n",
    "        out = torch.flatten(out,start_dim=1)\n",
    "        kout = self.before(out) \n",
    "        \n",
    "        k_out = self.ktop(kout)\n",
    "        out = torch.cat((kout,k_out),dim=1).to(self.device)\n",
    "        out = self.dense(out)\n",
    "        scale_1 = 0.05*nn.Tanh()(out[:,0])+1\n",
    "        scale_2 = 0.05*nn.Tanh()(out[:,1])+1\n",
    "        \n",
    "        if rotate_value!=None:\n",
    "            \n",
    "            # use large mask no need to limit to too small range\n",
    "            \n",
    "            rotate = rotate_value.reshape(out[:,2].shape) + 0.1*nn.Tanh()(out[:,2])\n",
    "            \n",
    "        else:\n",
    "            \n",
    "            rotate = nn.ReLU()(out[:,2])\n",
    "        \n",
    "        shear_1 = 0.1*nn.Tanh()(out[:,3])\n",
    "#        shear_2 = 0.1*nn.Tanh()(out[:,4])\n",
    "#        print(rotate)\n",
    "        a_1 = torch.cos(rotate)\n",
    "#        a_2 = -torch.sin(selection)\n",
    "        a_2 = torch.sin(rotate)    \n",
    "        a_4 = torch.ones(rotate.shape).to(self.device)\n",
    "        a_5 = rotate*0\n",
    "\n",
    "        \n",
    "        # combine shear and strain together\n",
    "        c1 = torch.stack((scale_1,shear_1), dim=1).squeeze()\n",
    "        c2 = torch.stack((shear_1,scale_2), dim=1).squeeze()\n",
    "        c3 = torch.stack((a_5,a_5), dim=1).squeeze()\n",
    "        scaler_shear = torch.stack((c1, c2, c3), dim=2) \n",
    "\n",
    "        # Add the rotation after the shear and strain\n",
    "        b1 = torch.stack((a_1,a_2), dim=1).squeeze()\n",
    "        b2 = torch.stack((-a_2,a_1), dim=1).squeeze()\n",
    "        b3 = torch.stack((a_5,a_5), dim=1).squeeze()\n",
    "        rotation = torch.stack((b1, b2, b3), dim=2)\n",
    "        \n",
    "        if self.interpolate == False:\n",
    "        \n",
    "            grid_1 = F.affine_grid(scaler_shear.to(self.device), x.size()).to(self.device)\n",
    "            out_sc_sh = F.grid_sample(x, grid_1)\n",
    "\n",
    "            grid_2 = F.affine_grid(rotation.to(self.device), x.size()).to(self.device)\n",
    "            output = F.grid_sample(out_sc_sh, grid_2)\n",
    "            \n",
    "        \n",
    "        else:\n",
    "            \n",
    "            x_inp = x.view(-1,1,self.input_size_0,self.input_size_1)\n",
    "            \n",
    "            x_inp = F.interpolate(x_inp, size=(self.up_size,self.up_size),mode = 'bicubic')\n",
    "            \n",
    "            grid_1 = F.affine_grid(scaler_shear.to(self.device), x_inp.size()).to(self.device)\n",
    "            out_sc_sh = F.grid_sample(x_inp, grid_1, mode = 'bicubic')\n",
    "\n",
    "            grid_2 = F.affine_grid(rotation.to(self.device), x_inp.size()).to(self.device)\n",
    "            output = F.grid_sample(out_sc_sh, grid_2, mode = 'bicubic')\n",
    "#        print(output.shape)\n",
    "        \n",
    "        \n",
    "#        print(out_revise)\n",
    "        \n",
    "\n",
    "        \n",
    "        # remove adjust parameter from each mask Region, if multiplied by 0\n",
    "        mask_parameter = 0*nn.Tanh()(out[:,self.embedding_size:self.embedding_size+1])+1\n",
    "\n",
    "        if self.interpolate:\n",
    "            ## Test 1.5 is good for 5% BKG\n",
    "            out_revise = revise_size_on_affine_gpu(output, self.mask, x.shape[0], scaler_shear,\\\n",
    "                                               self.device,adj_para=mask_parameter,radius=60,coef=1.5)\n",
    "\n",
    "#            out_revise = F.interpolate(out_revise,size=(self.input_size_0,self.input_size_1),mode = 'bicubic')\n",
    "\n",
    "            return out_revise,k_out,scaler_shear,rotation, mask_parameter, x_inp\n",
    "\n",
    "        else:\n",
    "\n",
    "#                 out_revise = revise_size_on_affine_gpu(output, self.mask, x.shape[0], scaler_shear,\\\n",
    "#                                                    self.device,adj_para=mask_parameter,radius=15)\n",
    "\n",
    "            return output,k_out,scaler_shear,rotation, mask_parameter"
   ]
  },
  {
   "cell_type": "code",
   "execution_count": 76,
   "id": "db085098",
   "metadata": {},
   "outputs": [],
   "source": [
    "class Decoder(nn.Module):\n",
    "    def __init__(self,original_step_size,up_list,embedding_size,conv_size,device,num_basis=2):\n",
    "        super(Decoder,self).__init__()\n",
    "        \n",
    "        self.device = device\n",
    "        \n",
    "        self.input_size_0 = original_step_size[0]\n",
    "        self.input_size_1 = original_step_size[1]\n",
    "        self.dense = nn.Linear(num_basis,original_step_size[0]*original_step_size[1])\n",
    "        self.cov2d = nn.Conv2d(1,conv_size,3,stride=1,padding=1,padding_mode = 'zeros')\n",
    "        self.cov2d_1 = nn.Conv2d(conv_size,1,3,stride=1,padding=1,padding_mode = 'zeros')\n",
    "        \n",
    "        blocks = []\n",
    "        number_of_blocks = len(up_list)\n",
    "        blocks.append(conv_block(t_size=conv_size, n_step=original_step_size))\n",
    "        blocks.append(identity_block(t_size=conv_size, n_step=original_step_size))\n",
    "        for i in range(number_of_blocks):\n",
    "            blocks.append(nn.Upsample(scale_factor=up_list[i], mode='bilinear', align_corners=True))\n",
    "            original_step_size = [original_step_size[0]*up_list[i],original_step_size[1]*up_list[i]]\n",
    "            blocks.append(conv_block(t_size=conv_size, n_step=original_step_size))\n",
    "            blocks.append(identity_block(t_size=conv_size, n_step=original_step_size))\n",
    "            \n",
    "        self.block_layer = nn.ModuleList(blocks)\n",
    "        self.layers=len(blocks)\n",
    "        \n",
    "        self.output_size_0 = original_step_size[0]\n",
    "        self.output_size_1 = original_step_size[1]\n",
    "        \n",
    "#        input_size = original_step_size[0]*original_step_size[1]\n",
    "        self.relu_1 = nn.LeakyReLU(0.001)\n",
    " \n",
    "\n",
    "        \n",
    "    def forward(self,x):\n",
    " #       print(x.shape)\n",
    "\n",
    "        out = self.dense(x)\n",
    "        out = out.view(-1,1,self.input_size_0,self.input_size_1)\n",
    "        out = self.cov2d(out)\n",
    "        for i in range(self.layers):\n",
    "            out = self.block_layer[i](out)\n",
    "        out = self.cov2d_1(out)\n",
    "        out = self.relu_1(out)\n",
    "        \n",
    "#        out = out.view()\n",
    "#        out = self.softmax(out)\n",
    "        \n",
    "        return out"
   ]
  },
  {
   "cell_type": "code",
   "execution_count": 77,
   "id": "6bcea65e",
   "metadata": {},
   "outputs": [],
   "source": [
    "class Joint(nn.Module):\n",
    "    def __init__(self,encoder,decoder,device):\n",
    "        super(Joint,self).__init__()\n",
    "        \n",
    "        self.encoder  = encoder\n",
    "        self.decoder = decoder\n",
    "        self.device = device\n",
    "        self.mask_size = encoder.find_mask()\n",
    "        \n",
    "        self.mask = encoder.rotate_mask()\n",
    "        \n",
    "        self.interpolate = encoder.check_inp()\n",
    "        self.up_size = encoder.check_upsize()\n",
    "        \n",
    "#        print(self.mask)\n",
    "        \n",
    "    def rotate_mask(self):\n",
    "        \n",
    "        return self.mask\n",
    "        \n",
    "    def forward(self,x,rotate_value=None):\n",
    "\n",
    "        if self.interpolate:\n",
    "            predicted_revise,k_out,scaler_shear,rotation,adj_mask, x_inp = self.encoder(x,rotate_value)\n",
    "            \n",
    "        else:\n",
    "            predicted_revise,k_out,scaler_shear,rotation,adj_mask = self.encoder(x,rotate_value)\n",
    "    \n",
    "        identity = torch.tensor([0,0,1],dtype= torch.float).reshape(1,1,3).repeat(x.shape[0],1,1).to(self.device)\n",
    "        \n",
    "        new_theta_1 = torch.cat((scaler_shear,identity),axis=1).to(self.device)\n",
    "        new_theta_2 = torch.cat((rotation,identity),axis=1).to(self.device)\n",
    "        \n",
    "        inver_theta_1 = torch.linalg.inv(new_theta_1)[:,0:2].to(self.device) \n",
    "        inver_theta_2 = torch.linalg.inv(new_theta_2)[:,0:2].to(self.device)\n",
    "        \n",
    "        predicted_base = self.decoder(k_out)\n",
    "        \n",
    "        if self.interpolate:\n",
    "            \n",
    "            predicted_base_inp = F.interpolate(predicted_base, size=(self.up_size,self.up_size),\n",
    "                                               mode = 'bicubic')\n",
    "            \n",
    "            grid_1 = F.affine_grid(inver_theta_1.to(self.device), predicted_base_inp.size()).to(self.device)\n",
    "            grid_2 = F.affine_grid(inver_theta_2.to(self.device), predicted_base_inp.size()).to(self.device)\n",
    "            \n",
    "            predicted_rotate = F.grid_sample(predicted_base_inp, grid_2, mode = 'bicubic')\n",
    "            predicted_input = F.grid_sample(predicted_rotate, grid_1, mode = 'bicubic')\n",
    "            \n",
    "        else:\n",
    "        \n",
    "            grid_1 = F.affine_grid(inver_theta_1.to(self.device), x.size()).to(self.device)\n",
    "            grid_2 = F.affine_grid(inver_theta_2.to(self.device), x.size()).to(self.device)\n",
    "        \n",
    "        \n",
    "        \n",
    "            predicted_rotate = F.grid_sample(predicted_base, grid_2)\n",
    "            \n",
    "            predicted_input = F.grid_sample(predicted_rotate, grid_1)\n",
    "        \n",
    "            \n",
    "        new_list = []\n",
    "#        interpolate_list = []\n",
    "\n",
    "        for mask_ in self.mask:\n",
    "\n",
    "#                print(x.shape)\n",
    "#                print(mask_.shape)\n",
    "            batch_mask = mask_.reshape(1,1,mask_.shape[-2],mask_.shape[-1]).repeat(x.shape[0],1,1,1).to(self.device)\n",
    "\n",
    "#                batch_mask = batch_mask\n",
    "\n",
    "#               print(batch_mask.shape)\n",
    "#               print(x.shape[0])\n",
    "#                batch_mask = batch_mask\n",
    "\n",
    "            batch_mask = torch.tensor(batch_mask,dtype=torch.float).to(self.device)\n",
    "\n",
    "            rotated_mask = F.grid_sample(batch_mask,grid_2)\n",
    "\n",
    "            \n",
    "            if self.interpolate:\n",
    "#                Add reverse affine transform of scale and shear to make all spots in the mask region\n",
    "                rotated_mask = F.grid_sample(rotated_mask, grid_1)\n",
    "#                rotated_inp = F.interpolate(rotated_mask,size=(x.shape[-2],x.shape[-1]),mode='bicubic')\n",
    "            \n",
    "#                 rotated_inp[rotated_inp<0.5]=0\n",
    "#                 rotated_inp[rotated_inp>=0.5]=1\n",
    "                \n",
    "\n",
    "#                 rotated_inp = torch.tensor(rotated_inp,dtype=torch.bool).squeeze().to(self.device)\n",
    "\n",
    "#                 interpolate_list.append(rotated_inp)\n",
    "                \n",
    "            \n",
    "            rotated_mask[rotated_mask<0.5] = 0\n",
    "            rotated_mask[rotated_mask>=0.5] = 1\n",
    "            \n",
    "            rotated_mask = torch.tensor(rotated_mask,dtype=torch.bool).squeeze().to(self.device)\n",
    "\n",
    "            new_list.append(rotated_mask)\n",
    "\n",
    "\n",
    "        if self.interpolate:\n",
    "         ## 1.5 is totally fine for 5% bkg\n",
    "            predicted_input_revise = revise_size_on_affine_gpu(predicted_input, new_list, x.shape[0], inver_theta_1,\\\n",
    "                                                               self.device, adj_para=adj_mask,radius=60,coef=1.5,pare_reverse=True)\n",
    "#             predicted_input_revise = F.interpolate(predicted_input_revise,size=(x.shape[-1],x.shape[-2]),\n",
    "#                                                     mode = 'bicubic')\n",
    "\n",
    "#             else:\n",
    "#                 predicted_input_revise = revise_size_on_affine_gpu(predicted_input, new_list, x.shape[0], inver_theta_1,\\\n",
    "#                                                                    self.device, adj_para=adj_mask,radius=15,pare_reverse=True\n",
    "\n",
    "\n",
    "\n",
    "############ change predicted_base to predicted_base_inp, delete interpolate_list,add new_list\n",
    "            return predicted_revise,predicted_base_inp,predicted_input_revise,k_out,scaler_shear,rotation,adj_mask,new_list,x_inp\n",
    "\n",
    "        else:\n",
    "            return predicted_revise,predicted_base,predicted_input,k_out,scaler_shear,rotation,adj_mask,new_list\n",
    "         \n",
    "        "
   ]
  },
  {
   "cell_type": "code",
   "execution_count": 78,
   "id": "9c731c87",
   "metadata": {},
   "outputs": [],
   "source": [
    "device = torch.device('cuda')"
   ]
  },
  {
   "cell_type": "code",
   "execution_count": 79,
   "id": "678f105c",
   "metadata": {},
   "outputs": [
    {
     "data": {
      "text/plain": [
       "device(type='cuda')"
      ]
     },
     "execution_count": 79,
     "metadata": {},
     "output_type": "execute_result"
    }
   ],
   "source": [
    "device"
   ]
  },
  {
   "cell_type": "code",
   "execution_count": 80,
   "id": "b5592332",
   "metadata": {},
   "outputs": [
    {
     "data": {
      "text/plain": [
       "True"
      ]
     },
     "execution_count": 80,
     "metadata": {},
     "output_type": "execute_result"
    }
   ],
   "source": [
    "type(mask_list_2) == list"
   ]
  },
  {
   "cell_type": "markdown",
   "id": "1bd5a758",
   "metadata": {},
   "source": [
    "# Setting Parameters"
   ]
  },
  {
   "cell_type": "markdown",
   "id": "5ac75025",
   "metadata": {},
   "source": [
    "## Parameters shared with both model architecture "
   ]
  },
  {
   "cell_type": "code",
   "execution_count": 81,
   "id": "f99094fa",
   "metadata": {},
   "outputs": [],
   "source": [
    "en_original_step_size=[200,200]\n",
    "pool_list=[5,4,2]\n",
    "de_original_step_size = [5,5]\n",
    "up_list = [2,4,5]\n",
    "embedding_size=4\n",
    "conv_size =128\n",
    "num_basis=1\n",
    "up_size=800"
   ]
  },
  {
   "cell_type": "markdown",
   "id": "ea11fd6c",
   "metadata": {},
   "source": [
    "## Parameters for first Training Process"
   ]
  },
  {
   "cell_type": "markdown",
   "id": "dd2d0f1c",
   "metadata": {},
   "source": [
    "# Set Model Structure"
   ]
  },
  {
   "cell_type": "markdown",
   "id": "5cbe3f57",
   "metadata": {},
   "source": [
    "# Use the generated rotation and scale shear to check on the base position and create new mask region"
   ]
  },
  {
   "cell_type": "code",
   "execution_count": 82,
   "id": "6cac25d1",
   "metadata": {},
   "outputs": [],
   "source": [
    "def inverse_base(name_of_file, input_mask_list, coef=2, radius = 7):\n",
    "    \n",
    "    load_file = h5py.File(name_of_file+'.h5','r')\n",
    "    load_base = load_file['base'][0].squeeze()\n",
    "    \n",
    "    \n",
    "    \n",
    "    base_ = torch.tensor(load_base,dtype=torch.float).reshape(1,1,load_base.shape[-1],load_base.shape[-2])\n",
    "    \n",
    "    center_mask_list,rotate_center = center_mask_list_function(base_,input_mask_list,coef,radius=radius)\n",
    "    \n",
    "    \n",
    "    \n",
    "    return center_mask_list, rotate_center"
   ]
  },
  {
   "cell_type": "code",
   "execution_count": 83,
   "id": "b78c9d41",
   "metadata": {},
   "outputs": [],
   "source": [
    "file_py4DSTEM = 'py4DSTEM_strain.h5'\n",
    "f = h5py.File(file_py4DSTEM,'r')\n",
    "strain_map = f['4DSTEM_experiment']['data']['realslices']['strain_map']['data'][:]"
   ]
  },
  {
   "cell_type": "code",
   "execution_count": 84,
   "id": "4134cdb2",
   "metadata": {},
   "outputs": [
    {
     "data": {
      "text/plain": [
       "(65536, 2)"
      ]
     },
     "execution_count": 84,
     "metadata": {},
     "output_type": "execute_result"
    }
   ],
   "source": [
    "rotation_ = np.load(\"25Percent_rotation_071323.npy\")\n",
    "rotation_.shape"
   ]
  },
  {
   "cell_type": "markdown",
   "id": "217929bd",
   "metadata": {},
   "source": [
    "# Add random rotation to the rotation from first training process "
   ]
  },
  {
   "cell_type": "code",
   "execution_count": 85,
   "id": "d142af87",
   "metadata": {},
   "outputs": [],
   "source": [
    "def add_disturb(rotation,dist = -15):\n",
    "    angles = np.rad2deg(np.arctan2(\n",
    "                        rotation[:,1].reshape(256,256),\n",
    "                        rotation[:,0].reshape(256,256)))\n",
    "    angles = angles.reshape(-1)\n",
    "    angles = angles+dist\n",
    "    \n",
    "    angles = np.deg2rad(angles)\n",
    "    \n",
    "    new_rotation = np.zeros([angles.shape[0],2])\n",
    "    \n",
    "    cos_ = np.cos(angles)\n",
    "    sin_ = np.sin(angles)\n",
    "    \n",
    "    new_rotation[:,0] = cos_\n",
    "    new_rotation[:,1] = sin_\n",
    "    \n",
    "    return new_rotation\n",
    "    "
   ]
  },
  {
   "cell_type": "code",
   "execution_count": 86,
   "id": "fae85834",
   "metadata": {},
   "outputs": [],
   "source": [
    "new_rotation = add_disturb(rotation_)"
   ]
  },
  {
   "cell_type": "code",
   "execution_count": 87,
   "id": "59e688d2",
   "metadata": {},
   "outputs": [],
   "source": [
    "theta_Colin = np.mod(np.rad2deg(strain_map[:,:,3]),60)\n",
    "theta_Shuyu = np.mod(np.rad2deg(np.arctan2(\n",
    "        new_rotation[:,1].reshape(256,256),\n",
    "        new_rotation[:,0].reshape(256,256))),\n",
    "    60.0)\n",
    "angle_diff = (theta_Shuyu-theta_Colin).reshape(-1)\n",
    "index_= np.where(angle_diff<0)\n",
    "angle_diff[index_]+=60"
   ]
  },
  {
   "cell_type": "code",
   "execution_count": 88,
   "id": "82a0ba07",
   "metadata": {},
   "outputs": [],
   "source": [
    "theta_ = np.pi*np.mean(angle_diff)/180\n",
    "theta_ = torch.tensor(theta_,dtype=torch.float)"
   ]
  },
  {
   "cell_type": "code",
   "execution_count": 89,
   "id": "c7b6865e",
   "metadata": {},
   "outputs": [
    {
     "data": {
      "text/plain": [
       "tensor(0.1430)"
      ]
     },
     "execution_count": 89,
     "metadata": {},
     "output_type": "execute_result"
    }
   ],
   "source": [
    "theta_"
   ]
  },
  {
   "cell_type": "code",
   "execution_count": 90,
   "id": "042dfb12",
   "metadata": {},
   "outputs": [
    {
     "data": {
      "text/plain": [
       "tensor(1.5889)"
      ]
     },
     "execution_count": 90,
     "metadata": {},
     "output_type": "execute_result"
    }
   ],
   "source": [
    "subtract = torch.tensor(angle_diff,dtype=torch.float)\n",
    "torch.var(subtract, unbiased=False)"
   ]
  },
  {
   "cell_type": "markdown",
   "id": "bf77a998",
   "metadata": {},
   "source": [
    "# Recorrect the Function for rotate mask list"
   ]
  },
  {
   "cell_type": "code",
   "execution_count": 91,
   "id": "addf163f",
   "metadata": {},
   "outputs": [],
   "source": [
    "def rotate_mask_list(mask_list,theta_):\n",
    "    modified_mask_list_2 = []\n",
    "    a_1 = torch.cos(theta_).reshape(1,1)\n",
    "    a_2 = torch.sin(theta_).reshape(1,1)\n",
    "    a_5 = torch.zeros([1,1])\n",
    "    b1 = torch.stack((a_1,a_2), dim=1)\n",
    "    b2 = torch.stack((-a_2,a_1), dim=1)\n",
    "    b3 = torch.stack((a_5,a_5), dim=1)\n",
    "    rotation = torch.stack((b1, b2, b3), dim=2)\n",
    "    rotation = rotation.reshape(1,2,3)\n",
    "    zero_tensor = torch.zeros(mask_list[0].shape)\n",
    "    print(zero_tensor.shape)\n",
    "    zero_tensor = zero_tensor.reshape(1,1,zero_tensor.shape[-2],zero_tensor.shape[-1])\n",
    "    grid_2 = F.affine_grid(rotation, zero_tensor.size())\n",
    "                           \n",
    "    \n",
    "    for mask_ in mask_list:\n",
    "        \n",
    "        tmp = torch.clone(mask_).reshape(1,1,mask_.shape[-2],mask_.shape[-1])\n",
    "        tmp = torch.tensor(tmp, dtype=torch.float)\n",
    "        rotate_tmp = F.grid_sample(tmp,grid_2)\n",
    "        rotate_tmp = torch.tensor(rotate_tmp,dtype=torch.bool).squeeze()\n",
    "        modified_mask_list_2.append(rotate_tmp)\n",
    "    \n",
    "    \n",
    "    rotate_mask_up = torch.clone(modified_mask_list_2[0])\n",
    "    \n",
    "    for i in range(1,len(mask_list)):\n",
    "        rotate_mask_up+=modified_mask_list_2[i]\n",
    "        \n",
    "    return modified_mask_list_2,rotate_mask_up"
   ]
  },
  {
   "cell_type": "code",
   "execution_count": 92,
   "id": "68aad41e",
   "metadata": {},
   "outputs": [
    {
     "name": "stdout",
     "output_type": "stream",
     "text": [
      "torch.Size([200, 200])\n"
     ]
    }
   ],
   "source": [
    "modified_mask_list_2,rotate_mask_up = rotate_mask_list(mask_list_2,theta_)"
   ]
  },
  {
   "cell_type": "code",
   "execution_count": 93,
   "id": "9fe57a5e-29c7-464e-940d-ef664d646815",
   "metadata": {},
   "outputs": [
    {
     "data": {
      "text/plain": [
       "<matplotlib.image.AxesImage at 0x7ff7f6f6cc70>"
      ]
     },
     "execution_count": 93,
     "metadata": {},
     "output_type": "execute_result"
    },
    {
     "data": {
      "image/png": "[encoded data removed]",
      "text/plain": [
       "<Figure size 640x480 with 1 Axes>"
      ]
     },
     "metadata": {},
     "output_type": "display_data"
    }
   ],
   "source": [
    "plt.imshow(modified_mask_list_2[0])"
   ]
  },
  {
   "cell_type": "code",
   "execution_count": 94,
   "id": "515cd406",
   "metadata": {},
   "outputs": [
    {
     "data": {
      "text/plain": [
       "<matplotlib.image.AxesImage at 0x7ff7f72a03d0>"
      ]
     },
     "execution_count": 94,
     "metadata": {},
     "output_type": "execute_result"
    },
    {
     "data": {
      "image/png": "[encoded data removed]",
      "text/plain": [
       "<Figure size 640x480 with 1 Axes>"
      ]
     },
     "metadata": {},
     "output_type": "display_data"
    }
   ],
   "source": [
    "plt.imshow(rotate_mask_up)"
   ]
  },
  {
   "cell_type": "markdown",
   "id": "928c13d9",
   "metadata": {},
   "source": [
    "# Set new circle with small radius"
   ]
  },
  {
   "cell_type": "markdown",
   "id": "a94fe803",
   "metadata": {},
   "source": [
    "## Generate base and recorrect the mask region and decrease the mask region"
   ]
  },
  {
   "cell_type": "code",
   "execution_count": 95,
   "id": "8de9e9c2",
   "metadata": {},
   "outputs": [],
   "source": [
    "def upsample_mask(mask_list,input_size, up_size):\n",
    "    \n",
    "    if mask_list[0].shape[-1]==up_size:\n",
    "        return mask_list\n",
    "    \n",
    "    mask_with_inp = []\n",
    "    for mask_ in mask_list:\n",
    "        temp_mask = torch.tensor(mask_.reshape(1,1,input_size,input_size),dtype=torch.float)\n",
    "        temp_mask = F.interpolate(temp_mask, size=(up_size,up_size),mode = 'bicubic')\n",
    "        temp_mask[temp_mask<0.5]=0\n",
    "        temp_mask[temp_mask>=0.5]=1\n",
    "        temp_mask = torch.tensor(temp_mask.squeeze(),dtype=torch.bool)\n",
    "        mask_with_inp.append(temp_mask)\n",
    "\n",
    "    return mask_with_inp"
   ]
  },
  {
   "cell_type": "code",
   "execution_count": 51,
   "id": "080760b5",
   "metadata": {},
   "outputs": [],
   "source": [
    "def center_mask_list_function(image,mask_list,coef,radius=7):\n",
    "    \n",
    "    center_mask_list = []\n",
    "    mean_ = np.zeros([image.shape[-2],image.shape[-1]])\n",
    "    \n",
    "    input_size = mask_list[0].shape[-1]\n",
    "    up_size = image.shape[-1]\n",
    "    \n",
    "    if input_size!=up_size:\n",
    "        \n",
    "        mask_list = upsample_mask(mask_list,input_size,up_size)\n",
    "    \n",
    "    for j, mask in enumerate(mask_list):\n",
    "        \n",
    "\n",
    "        mask_ = mask.reshape(1,1,mask.shape[-2],mask.shape[-1])\n",
    "\n",
    "        new_image = image*mask_\n",
    "\n",
    "        center_x,center_y = center_of_mass(new_image.squeeze(),mask_.squeeze(),coef)\n",
    "        \n",
    "        center_x = int(np.round(np.array(center_x)))\n",
    "        center_y = int(np.round(np.array(center_y)))\n",
    "        print(center_x,center_y)\n",
    "        \n",
    "        small_mask = mask_function(mean_,radius=radius,center_coordinates=(center_y,center_x))\n",
    "        \n",
    "        small_mask = torch.tensor(small_mask,dtype = torch.bool)\n",
    "        \n",
    "        center_mask_list.append(small_mask)\n",
    "        \n",
    "    if input_size!=up_size:\n",
    "        \n",
    "        center_mask_list = upsample_mask(center_mask_list,up_size,input_size)\n",
    "        \n",
    "    rotate_mask_up = torch.clone(center_mask_list[0])\n",
    "    \n",
    "    for i in range(1,len(center_mask_list)):\n",
    "        rotate_mask_up+=center_mask_list[i]\n",
    "        \n",
    "    return center_mask_list,rotate_mask_up"
   ]
  },
  {
   "cell_type": "code",
   "execution_count": null,
   "id": "d727040e",
   "metadata": {},
   "outputs": [],
   "source": []
  },
  {
   "cell_type": "markdown",
   "id": "46176e22",
   "metadata": {},
   "source": [
    "## Parameters for second Training Process"
   ]
  },
  {
   "cell_type": "code",
   "execution_count": 52,
   "id": "14d71b56",
   "metadata": {},
   "outputs": [],
   "source": [
    "num_mask_2 = 6\n",
    "fixed_mask_2 = modified_mask_list_2\n",
    "interpolate_2 = True"
   ]
  },
  {
   "cell_type": "markdown",
   "id": "0f2cc300",
   "metadata": {},
   "source": [
    "## Model for second process training"
   ]
  },
  {
   "cell_type": "code",
   "execution_count": 53,
   "id": "c88289a6",
   "metadata": {},
   "outputs": [],
   "source": [
    "def make_model_2(device,\n",
    "               en_original_step_size = en_original_step_size, \n",
    "               pool_list = pool_list, \n",
    "               de_original_step_size = de_original_step_size,\n",
    "               up_list = up_list,\n",
    "               embedding_size = embedding_size,\n",
    "               conv_size = conv_size,\n",
    "               num_basis = num_basis,\n",
    "               num_mask = num_mask_2,\n",
    "               fixed_mask = fixed_mask_2,\n",
    "               learning_rate = 3e-5,\n",
    "               interpolate = interpolate_2,\n",
    "               up_size = up_size\n",
    "               ):\n",
    "    \n",
    "    encoder = Encoder(original_step_size=en_original_step_size,\n",
    "                      pool_list=pool_list,\n",
    "                      embedding_size=embedding_size,\n",
    "                      conv_size=conv_size,\n",
    "                      device = device,\n",
    "                      num_basis=num_basis,\n",
    "                      fixed_mask = fixed_mask,\n",
    "                      num_mask=num_mask,\n",
    "                      interpolate = interpolate,\n",
    "                      up_size = up_size).to(device)\n",
    "    decoder = Decoder(original_step_size=de_original_step_size,\n",
    "                      up_list=up_list,\n",
    "                      embedding_size=embedding_size,\n",
    "                      conv_size=conv_size,\n",
    "                      device = device,\n",
    "                      num_basis=num_basis).to(device)\n",
    "    join = Joint(encoder,decoder,device).to(device)\n",
    "    \n",
    "    optimizer = optim.Adam(join.parameters(), lr=learning_rate)\n",
    "    \n",
    "    join = torch.nn.parallel.DataParallel(join)\n",
    "    \n",
    "    return encoder, decoder, join, optimizer"
   ]
  },
  {
   "cell_type": "markdown",
   "id": "26d39907",
   "metadata": {},
   "source": [
    "# Loss Function for Second Process\n",
    "## loss function used for small batch size"
   ]
  },
  {
   "cell_type": "code",
   "execution_count": 62,
   "id": "8a4e5c63",
   "metadata": {},
   "outputs": [],
   "source": [
    "def loss_function_2nd(join,\n",
    "                      train_iterator,\n",
    "                      optimizer,\n",
    "                      device,\n",
    "                      coef1 = 0,\n",
    "                      coef2 = 0,\n",
    "                      coef3 = 0,\n",
    "                      ln_parm = 1, \n",
    "                      mask_ = None,\n",
    "                      up_inp = False\n",
    "                     ):\n",
    "\n",
    "    weight_decay = coef1\n",
    "    scale_coef = coef2\n",
    "    shear_coef = coef3\n",
    "\n",
    "    # set the train mode\n",
    "    join.eval()\n",
    "\n",
    "    # loss of the epoch\n",
    "    train_loss = 0\n",
    "    L2_loss = 0 \n",
    "    Scale_Loss = 0\n",
    "    Shear_Loss = 0 \n",
    "    with torch.no_grad():\n",
    "        for x,y in tqdm(train_iterator, leave=True, total=len(train_iterator)):\n",
    "         \n",
    "    \n",
    "            x = x.to(device, dtype=torch.float)\n",
    "            y = y.to(device, dtype=torch.float)\n",
    "    \n",
    "            \n",
    "            if up_inp:\n",
    "                \n",
    "                predicted_x,predicted_base,predicted_input,kout,theta_1,theta_2,adj_mask,new_list,x_inp = join(x,y)\n",
    "                \n",
    "    #             print(mask_[0].shape)\n",
    "    #             print(x.shape[-1])\n",
    "    #             print(x_inp.shape[-1])\n",
    "                \n",
    "                mask_ = upsample_mask(mask_,x.shape[-1], x_inp.shape[-1])\n",
    "                \n",
    "            else:\n",
    "                predicted_x,predicted_base,predicted_input,kout,theta_1,theta_2,adj_mask,new_list= join(x,y)\n",
    "            \n",
    "    \n",
    "            l2_loss = weight_decay*torch.norm(predicted_base.squeeze(), p=ln_parm)/x.shape[0]\n",
    "            scale_loss = scale_coef*(torch.mean(F.relu(abs(theta_1[:,0,0]-1)-0.04))\\\n",
    "                                     +torch.mean(F.relu(abs(theta_1[:,1,1]-1)-0.04)))\n",
    "            shear_loss = shear_coef*torch.mean(F.relu(abs(theta_1[:,0,1])-0.04)) \n",
    "            \n",
    "            loss  = (l2_loss + scale_loss + shear_loss)*len(mask_)\n",
    "    \n",
    "            for i,mask in enumerate(mask_):\n",
    "    \n",
    "                \n",
    "                loss += F.mse_loss(predicted_base.squeeze()[:,mask], predicted_x.squeeze()[:,mask], reduction='mean')\n",
    "                #set the loss for the generated input and input\n",
    "                sub_loss = 0\n",
    "                for k in range(x.shape[0]):\n",
    "                    \n",
    "                    if up_inp:\n",
    "                        sub_loss += F.mse_loss(predicted_input[k].squeeze()[new_list[i][k]], x_inp[k].squeeze()[new_list[i][k]], reduction='mean')\n",
    "                    else:\n",
    "                        sub_loss += F.mse_loss(predicted_input[k].squeeze()[new_list[i][k]], x[k].squeeze()[new_list[i][k]], reduction='mean')\n",
    "    \n",
    "                loss += (sub_loss/x.shape[0])\n",
    "    \n",
    "            loss = loss/(len(mask_)*15)\n",
    "    \n",
    "            if loss>1.5:\n",
    "                loss  =  (l2_loss + scale_loss + shear_loss)*len(mask_)\n",
    "                for i,mask in enumerate(mask_):\n",
    "    \n",
    "                    loss += F.l1_loss(predicted_base.squeeze()[:,mask], predicted_x.squeeze()[:,mask], reduction='mean')\n",
    "    \n",
    "                    sub_loss = 0\n",
    "                    for k in range(x.shape[0]):\n",
    "    \n",
    "                        if up_inp:\n",
    "                            sub_loss += F.l1_loss(predicted_input[k].squeeze()[new_list[i][k]], x_inp[k].squeeze()[new_list[i][k]], reduction='mean')\n",
    "                        else:\n",
    "                            sub_loss += F.l1_loss(predicted_input[k].squeeze()[new_list[i][k]], x[k].squeeze()[new_list[i][k]], reduction='mean')\n",
    "                    loss += (sub_loss/x.shape[0])\n",
    "    \n",
    "                loss = loss/(len(mask_)*15)\n",
    "                loss = loss- 1\n",
    "    \n",
    "            if loss>(2*len(mask_)):\n",
    "                loss=2*len(mask_)+l2_loss + scale_loss + shear_loss\n",
    "    \n",
    "                    \n",
    "            # backward pass\n",
    "            train_loss += loss.item()\n",
    "            L2_loss += l2_loss\n",
    "            Scale_Loss += scale_loss\n",
    "            Shear_Loss += shear_loss\n",
    "\n",
    "\n",
    "    return train_loss, L2_loss, Scale_Loss, Shear_Loss"
   ]
  },
  {
   "cell_type": "markdown",
   "id": "90d6cdcd",
   "metadata": {},
   "source": [
    "## loss function used for large batch size"
   ]
  },
  {
   "cell_type": "markdown",
   "id": "df2ae0e7",
   "metadata": {},
   "source": [
    "## Validate Loss fuction"
   ]
  },
  {
   "cell_type": "code",
   "execution_count": null,
   "id": "fbc5fec2",
   "metadata": {},
   "outputs": [],
   "source": []
  },
  {
   "cell_type": "code",
   "execution_count": 55,
   "id": "40711cd0",
   "metadata": {},
   "outputs": [],
   "source": [
    "# def validate_loss(join,\n",
    "#                   validate_iterator,\n",
    "#                   device,\n",
    "#                   mask_,\n",
    "#                   up_inp\n",
    "#                  ):\n",
    "\n",
    "\n",
    "#     # set the evaluate mode\n",
    "#     join.eval()\n",
    "\n",
    "#     # loss of the epoch\n",
    "#     validate_l = 0\n",
    "    \n",
    "#     for x,y in tqdm(validate_iterator, leave=True, total=len(validate_iterator)):\n",
    "        \n",
    "#         with torch.no_grad():\n",
    "     \n",
    "\n",
    "#             x = x.to(device, dtype=torch.float)\n",
    "#             y = y.to(device, dtype=torch.float)\n",
    "            \n",
    "#             if up_inp:\n",
    "\n",
    "#                 predicted_x,predicted_base,predicted_input,kout,theta_1,theta_2,adj_mask,new_list,x_inp = join(x,y)\n",
    "\n",
    "#                 mask_ = upsample_mask(mask_,x.shape[-1], x_inp.shape[-1])\n",
    "\n",
    "#             else:\n",
    "#                 predicted_x,predicted_base,predicted_input,kout,theta_1,theta_2,adj_mask,new_list= join(x,y)\n",
    "\n",
    "#             loss = 0\n",
    "\n",
    "#             for i,mask in enumerate(mask_):\n",
    "\n",
    "\n",
    "#                 loss += F.mse_loss(predicted_base.squeeze()[:,mask], predicted_x.squeeze()[:,mask], reduction='mean')\n",
    "#                 #set the loss for the generated input and input\n",
    "#                 sub_loss = 0\n",
    "#                 for k in range(x.shape[0]):\n",
    "                    \n",
    "#                     if up_inp:\n",
    "\n",
    "#                         sub_loss += F.mse_loss(predicted_input[k].squeeze()[new_list[i][k]], x_inp[k].squeeze()[new_list[i][k]], reduction='mean')\n",
    "#                     else:\n",
    "                        \n",
    "#                         sub_loss += F.mse_loss(predicted_input[k].squeeze()[new_list[i][k]], x[k].squeeze()[new_list[i][k]], reduction='mean')\n",
    "                        \n",
    "#                 loss += (sub_loss/x.shape[0])\n",
    "\n",
    "#             loss = loss/(len(mask_)*30)\n",
    "\n",
    "\n",
    "#             validate_l += loss.item()\n",
    "        \n",
    "#     validate_l = validate_l/len(validate_iterator)\n",
    "\n",
    "#     return validate_l"
   ]
  },
  {
   "cell_type": "markdown",
   "id": "6adf87e7",
   "metadata": {},
   "source": [
    "# Set function for performance monitor"
   ]
  },
  {
   "cell_type": "markdown",
   "id": "4c242c56",
   "metadata": {},
   "source": [
    "## Polar Decomposition "
   ]
  },
  {
   "cell_type": "code",
   "execution_count": 56,
   "id": "1c58bade",
   "metadata": {},
   "outputs": [],
   "source": [
    "# Define function of exx, eyy and exy\n",
    "def basis2probe(rotation_,scale_shear_):\n",
    "    \n",
    "    M = []\n",
    "    #    G_ref_inv = np.linalg.inv(G_ref)\n",
    "    for i in tqdm(range(65536),leave=True,total=65536):\n",
    "        \n",
    "        theta = np.arctan2(rotation_[i][1], rotation_[i][0]) \n",
    "                       \n",
    "        xx = scale_shear_[i][0]\n",
    "        yy = scale_shear_[i][3]\n",
    "        \n",
    "        xy = scale_shear_[i][1]\n",
    "        yx = scale_shear_[i][2]\n",
    "        \n",
    "        \n",
    "        r = np.array([\n",
    "            [np.cos(theta), -np.sin(theta)],\n",
    "            [np.sin(theta),  np.cos(theta)]\n",
    "            ])\n",
    "        t = np.array([\n",
    "            [xx,xy],\n",
    "            [yx,yy]\n",
    "            ])\n",
    "        m = np.linalg.inv(t) @ np.linalg.inv(r)\n",
    "\n",
    "        # t1 = np.array([\n",
    "        #     [xx,0],\n",
    "        #     [0,yy]\n",
    "        #     ])\n",
    "        # t2 = np.array([\n",
    "        #     [1,xy],\n",
    "        #     [yx,1]\n",
    "        #     ])\n",
    "        # m = r @ np.linalg.inv(t1) @ np.linalg.inv(t2)\n",
    "        \n",
    "        M.append(m)\n",
    "        \n",
    "    M  = np.array(M)\n",
    "    return M"
   ]
  },
  {
   "cell_type": "markdown",
   "id": "9d41d52f",
   "metadata": {},
   "source": [
    "## The function for the scale and shear evaluation"
   ]
  },
  {
   "cell_type": "code",
   "execution_count": 57,
   "id": "541b14ac",
   "metadata": {},
   "outputs": [],
   "source": [
    "def Show_Process(model,test_iterator,mask_list,name_of_file,device,up_inp):\n",
    "\n",
    "    model.eval()\n",
    "    \n",
    "    rotation_ = np.zeros([65536,2])\n",
    "    scale_shear_ = np.zeros([65536,4])\n",
    "    number_loss = len(mask_list)\n",
    "    loss_map = np.zeros([65536,number_loss])\n",
    "\n",
    "    for i, x in enumerate(tqdm(test_iterator,leave=True,total=len(test_iterator))):\n",
    "        with torch.no_grad():\n",
    "            value,rot = x\n",
    "            rot = Variable(rot.cuda()).float()\n",
    "            test_value = Variable(value.cuda())\n",
    "            test_value = test_value.float()\n",
    "            \n",
    "            if up_inp:\n",
    "                predicted_x,predicted_base,predicted_input,kout,theta_1,theta_2,adj_mask,new_list,x_inp= model(test_value.to(device, dtype=torch.float),\n",
    "                                                                                                               rot.to(device, dtype=torch.float))\n",
    "                \n",
    "                mask_list = upsample_mask(mask_list,test_value.shape[-1], x_inp.shape[-1])\n",
    "                \n",
    "            else:\n",
    "                predicted_x,predicted_base,predicted_input,kout,theta_1,theta_2,adj_mask,new_list= model(test_value.to(device, dtype=torch.float),\n",
    "                                                                                                         rot.to(device, dtype=torch.float))\n",
    "            \n",
    "            batch_size = test_value.shape[0]\n",
    "            \n",
    "            rotation_[i*batch_size:(i+1)*batch_size] = theta_2[:,:,0].cpu().detach().numpy()\n",
    "\n",
    "            scale_shear_[i*batch_size:(i+1)*batch_size] = theta_1[:,:,0:2].cpu().detach().numpy().reshape(-1,4)\n",
    "            \n",
    "            \n",
    "            for j,mask in enumerate(mask_list):\n",
    "                \n",
    "                temp_loss = 0\n",
    "\n",
    "                temp_loss += torch.mean((predicted_base.squeeze()[:,mask] - predicted_x.squeeze()[:,mask])**2,1)\n",
    "\n",
    "                for k in range(test_value.shape[0]):\n",
    "                    if up_inp:\n",
    "                        single_loss = F.mse_loss(predicted_input[k].squeeze()[new_list[j][k]], x_inp[k].squeeze()[new_list[j][k]], reduction='mean')\n",
    "                    else:\n",
    "                        single_loss = F.mse_loss(predicted_input[k].squeeze()[new_list[j][k]], test_value[k].squeeze()[new_list[j][k]], reduction='mean')\n",
    "                    temp_loss[k] +=single_loss\n",
    "\n",
    "      \n",
    "                loss_map[i*batch_size:(i+1)*batch_size,j] = temp_loss.cpu().detach().numpy().reshape(batch_size)\n",
    "        \n",
    "    loss_map = np.mean(loss_map,axis=1)      \n",
    "        \n",
    "            \n",
    "    predicted_base = predicted_base[0].cpu().detach().numpy()\n",
    "    \n",
    "    h5f = h5py.File(name_of_file+'.h5', 'w')\n",
    "    h5f.create_dataset('rotation', data=rotation_)\n",
    "    h5f.create_dataset('scale_shear', data=scale_shear_)\n",
    "    h5f.create_dataset('loss', data=loss_map)\n",
    "    h5f.create_dataset('base', data=predicted_base)\n",
    "    \n",
    "    # stack the list to torch tensor for saving in the h5 format\n",
    "    gou_list  = torch.cat(mask_list)\n",
    "    gou_list = gou_list.reshape(len(mask_list),mask_list[0].shape[-2],mask_list[0].shape[-1])\n",
    "    \n",
    "    h5f.create_dataset('mask_list', data=gou_list)\n",
    "    h5f.close()\n",
    "    \n",
    "    im_size = (256,256)\n",
    "    M_init = basis2probe(rotation_,scale_shear_).reshape(im_size[0],im_size[1],2,2)\n",
    "    \n",
    "    M_ref = np.median(M_init[30:60,10:40],axis=(0,1))\n",
    "\n",
    "    # u_ref, p_ref = sp.linalg.polar(M_ref, side='right')\n",
    "\n",
    "\n",
    "    exx_Shuyu = np.zeros((im_size[0],im_size[1]))\n",
    "    eyy_Shuyu = np.zeros((im_size[0],im_size[1]))\n",
    "    exy_Shuyu = np.zeros((im_size[0],im_size[1]))\n",
    "\n",
    "    for rx in range(im_size[0]):\n",
    "        for ry in range(im_size[1]):\n",
    "\n",
    "            T = M_init[rx,ry] @ np.linalg.inv(M_ref)\n",
    "            u, p = sp.linalg.polar(T, side='left')\n",
    "\n",
    "            transformation = np.array([\n",
    "                [p[0,0] - 1, p[0,1]],\n",
    "                [p[0,1], p[1,1] - 1],\n",
    "            ])\n",
    "\n",
    "     #       transformation = u @ transformation @ u.T\n",
    "\n",
    "            exx_Shuyu[rx,ry] = transformation[1,1]\n",
    "            eyy_Shuyu[rx,ry] = transformation[0,0]\n",
    "            exy_Shuyu[rx,ry] = transformation[0,1]    \n",
    "        \n",
    "    return exx_Shuyu,eyy_Shuyu,exy_Shuyu"
   ]
  },
  {
   "cell_type": "code",
   "execution_count": 58,
   "id": "cae4fbdf",
   "metadata": {},
   "outputs": [],
   "source": [
    "def Generate_scale_shear_loss(exx_Shuyu,eyy_Shuyu,exy_Shuyu,label_xx,label_yy,label_xy):\n",
    "    dif_shuyu_xx = exx_Shuyu - label_xx\n",
    "    dif_shuyu_yy = eyy_Shuyu - label_yy\n",
    "    dif_shuyu_xy = exy_Shuyu - label_xy\n",
    "    mae_shuyu_xx = np.mean(abs(dif_shuyu_xx)) \n",
    "    mae_shuyu_yy = np.mean(abs(dif_shuyu_yy)) \n",
    "    mae_shuyu_xy = np.mean(abs(dif_shuyu_xy)) \n",
    "    \n",
    "    combine_loss = mae_shuyu_xx + mae_shuyu_yy + mae_shuyu_xy\n",
    "    \n",
    "    return combine_loss"
   ]
  },
  {
   "cell_type": "markdown",
   "id": "d55ba847",
   "metadata": {},
   "source": [
    "# Second training process\n",
    "### set training parameters"
   ]
  },
  {
   "cell_type": "code",
   "execution_count": 97,
   "id": "a23bf882",
   "metadata": {},
   "outputs": [],
   "source": [
    "data_dir = os.path.abspath(\"./Extremely_Noisy_4DSTEM_Strain_Mapping_Using_CC_ST_AE_Simulated/polycrystal_output4D.mat\")\n",
    "#folder_path = os.path.abspath(\"./07_13_25Percent_Upsample_SCALE_SHEAR_On_MASK_Test_large_MASK_update_MASK_once_15DEGREE\")\n",
    "#pretrain_weight = os.path.abspath(\"./04_20_RAYTUNE_lr:0.000065_scale_cof:80.350_shear_cof:16.100_MAE:0.0063_seed:42_epoch:0004_trainloss:0.002384_l1:0.00014_scal:0.00000_shr:0.00000.pkl\")"
   ]
  },
  {
   "cell_type": "code",
   "execution_count": 99,
   "id": "d7b42dbf-edfd-4eb3-ac21-efb192b2bb9a",
   "metadata": {},
   "outputs": [
    {
     "name": "stderr",
     "output_type": "stream",
     "text": [
      "100%|████████████████████████████████████████████████████████████████████████████████████████████████████████████| 65536/65536 [02:17<00:00, 477.06it/s]\n",
      "100%|█████████████████████████████████████████████████████████████████████████████████████████████████████████| 65536/65536 [00:00<00:00, 951322.26it/s]\n"
     ]
    }
   ],
   "source": [
    "whole_data_with_rotation = load_data_4_process2(data_dir,new_rotation,w_bg=0.25)"
   ]
  },
  {
   "cell_type": "code",
   "execution_count": 107,
   "id": "c5302027",
   "metadata": {},
   "outputs": [],
   "source": [
    "def Test_Process(data_set,\n",
    "                 epochs=1,\n",
    "                 activity_regular='l1',\n",
    "                 mask_= modified_mask_list_2,\n",
    "                 check_mask = modified_mask_list_2,\n",
    "                 Up_inp = interpolate_2,\n",
    "                 epoch_ = None,\n",
    "                 file_path = None,\n",
    "                 folder_path='',\n",
    "                 best_train_loss= None,\n",
    "                ):\n",
    "        \n",
    "            \n",
    "        device = \"cpu\"\n",
    "        if torch.cuda.is_available():\n",
    "            device = \"cuda\"\n",
    "        \n",
    "        \n",
    "        seed = 42\n",
    "        np.random.seed(seed)\n",
    "        torch.manual_seed(seed)\n",
    "        print('.........a step.........')\n",
    "\n",
    "    #        print(config[\"learning_rate\"])\n",
    "\n",
    "        print('.........b step.........')\n",
    "\n",
    "        learning_rate = 3e-4\n",
    "#        max_rate = config[\"max_rate\"]\n",
    "\n",
    "        coef_1 = 5e-7\n",
    "        coef_2 = 70\n",
    "        coef_3 = 10\n",
    "        batch_para = 64\n",
    "\n",
    "\n",
    "        learning_rate = int(learning_rate*1e6)/1e6\n",
    "#        max_rate = int(max_rate*1e6)/1e6\n",
    "        coef_1 = int(coef_1*1e9)/1e9\n",
    "        coef_2 = int(coef_2*1e2)/1e2\n",
    "        coef_3 = int(coef_3*1e2)/1e2\n",
    "        \n",
    "        patience = 0\n",
    "        \n",
    "        print(\"........successfully load parameters\")\n",
    "        \n",
    "        encoder, decoder, join, optimizer = \\\n",
    "        make_model_2(device,learning_rate = learning_rate,fixed_mask = mask_)\n",
    "\n",
    "        checkpoint = '2nd_train_weight_25Per.pkl'\n",
    "        pre_weight = torch.load(checkpoint)\n",
    "        join.load_state_dict(pre_weight[\"net\"])\n",
    "        \n",
    "        if activity_regular == 'l1':\n",
    "            regul_type = 1\n",
    "            \n",
    "        elif activity_regular == 'l2':\n",
    "            regul_type = 2\n",
    "            \n",
    "        else:\n",
    "            regul_type = 0\n",
    "            \n",
    "     \n",
    "        print('..........successfully generate model')\n",
    "        \n",
    "        \n",
    "        train_iterator = DataLoader(data_set, batch_size=64, shuffle=False, num_workers=0)\n",
    "\n",
    "        N_EPOCHS = epochs\n",
    "\n",
    "        if best_train_loss == None:\n",
    "            best_train_loss = float('inf')\n",
    "\n",
    "\n",
    "        if epoch_==None:\n",
    "            start_epoch = 0\n",
    "        else:\n",
    "            start_epoch = epoch_+1\n",
    "        print('...........successfully generate train interator')\n",
    "\n",
    "        for epoch in range(start_epoch,epochs):\n",
    "    #    This loss function include the entropy loss with increasing coefficient value\n",
    "        \n",
    "    \n",
    "            train = loss_function_2nd(join,train_iterator,\n",
    "                                  optimizer,device,coef_1,coef_2,coef_3,regul_type,mask_,interpolate_2)\n",
    "\n",
    "            input_length = len(train_iterator)\n",
    "                \n",
    "                \n",
    "            train_loss,L2_loss,Scale_Loss, Shear_Loss = train\n",
    "            \n",
    "            train_loss /= input_length\n",
    "            L2_loss /= input_length\n",
    "            Scale_Loss /= input_length\n",
    "            Shear_Loss /= input_length\n",
    "\n",
    "    #        VAE_L /= len(train_iterator)\n",
    "            print(f'Epoch {epoch}, Train Loss: {train_loss:.4f}')\n",
    "    #        print(f'......... VAE Loss: {VAE_L:.4f}')\n",
    "            print('.............................')\n",
    "\n"
   ]
  },
  {
   "cell_type": "code",
   "execution_count": 109,
   "id": "9bfca942",
   "metadata": {},
   "outputs": [
    {
     "name": "stdout",
     "output_type": "stream",
     "text": [
      ".........a step.........\n",
      ".........b step.........\n",
      "........successfully load parameters\n",
      "..........successfully generate model\n",
      "...........successfully generate train interator\n"
     ]
    },
    {
     "name": "stderr",
     "output_type": "stream",
     "text": [
      "  0%|▏                                                                                                               | 2/1024 [00:17<2:30:10,  8.82s/it]\n"
     ]
    },
    {
     "ename": "KeyboardInterrupt",
     "evalue": "",
     "output_type": "error",
     "traceback": [
      "\u001b[0;31m---------------------------------------------------------------------------\u001b[0m",
      "\u001b[0;31mKeyboardInterrupt\u001b[0m                         Traceback (most recent call last)",
      "Cell \u001b[0;32mIn[109], line 1\u001b[0m\n\u001b[0;32m----> 1\u001b[0m \u001b[43mTest_Process\u001b[49m\u001b[43m(\u001b[49m\u001b[43mwhole_data_with_rotation\u001b[49m\u001b[43m)\u001b[49m\n",
      "Cell \u001b[0;32mIn[107], line 85\u001b[0m, in \u001b[0;36mTest_Process\u001b[0;34m(data_set, epochs, activity_regular, mask_, check_mask, Up_inp, epoch_, file_path, folder_path, best_train_loss)\u001b[0m\n\u001b[1;32m     79\u001b[0m     \u001b[38;5;28mprint\u001b[39m(\u001b[38;5;124m'\u001b[39m\u001b[38;5;124m...........successfully generate train interator\u001b[39m\u001b[38;5;124m'\u001b[39m)\n\u001b[1;32m     81\u001b[0m     \u001b[38;5;28;01mfor\u001b[39;00m epoch \u001b[38;5;129;01min\u001b[39;00m \u001b[38;5;28mrange\u001b[39m(start_epoch,epochs):\n\u001b[1;32m     82\u001b[0m \u001b[38;5;66;03m#    This loss function include the entropy loss with increasing coefficient value\u001b[39;00m\n\u001b[0;32m---> 85\u001b[0m         train \u001b[38;5;241m=\u001b[39m \u001b[43mloss_function_2nd\u001b[49m\u001b[43m(\u001b[49m\u001b[43mjoin\u001b[49m\u001b[43m,\u001b[49m\u001b[43mtrain_iterator\u001b[49m\u001b[43m,\u001b[49m\n\u001b[1;32m     86\u001b[0m \u001b[43m                              \u001b[49m\u001b[43moptimizer\u001b[49m\u001b[43m,\u001b[49m\u001b[43mdevice\u001b[49m\u001b[43m,\u001b[49m\u001b[43mcoef_1\u001b[49m\u001b[43m,\u001b[49m\u001b[43mcoef_2\u001b[49m\u001b[43m,\u001b[49m\u001b[43mcoef_3\u001b[49m\u001b[43m,\u001b[49m\u001b[43mregul_type\u001b[49m\u001b[43m,\u001b[49m\u001b[43mmask_\u001b[49m\u001b[43m,\u001b[49m\u001b[43minterpolate_2\u001b[49m\u001b[43m)\u001b[49m\n\u001b[1;32m     88\u001b[0m         input_length \u001b[38;5;241m=\u001b[39m \u001b[38;5;28mlen\u001b[39m(train_iterator)\n\u001b[1;32m     91\u001b[0m         train_loss,L2_loss,Scale_Loss, Shear_Loss \u001b[38;5;241m=\u001b[39m train\n",
      "Cell \u001b[0;32mIn[62], line 57\u001b[0m, in \u001b[0;36mloss_function_2nd\u001b[0;34m(join, train_iterator, optimizer, device, coef1, coef2, coef3, ln_parm, mask_, up_inp)\u001b[0m\n\u001b[1;32m     52\u001b[0m loss  \u001b[38;5;241m=\u001b[39m (l2_loss \u001b[38;5;241m+\u001b[39m scale_loss \u001b[38;5;241m+\u001b[39m shear_loss)\u001b[38;5;241m*\u001b[39m\u001b[38;5;28mlen\u001b[39m(mask_)\n\u001b[1;32m     54\u001b[0m \u001b[38;5;28;01mfor\u001b[39;00m i,mask \u001b[38;5;129;01min\u001b[39;00m \u001b[38;5;28menumerate\u001b[39m(mask_):\n\u001b[0;32m---> 57\u001b[0m     loss \u001b[38;5;241m+\u001b[39m\u001b[38;5;241m=\u001b[39m F\u001b[38;5;241m.\u001b[39mmse_loss(predicted_base\u001b[38;5;241m.\u001b[39msqueeze()[:,mask], \u001b[43mpredicted_x\u001b[49m\u001b[38;5;241;43m.\u001b[39;49m\u001b[43msqueeze\u001b[49m\u001b[43m(\u001b[49m\u001b[43m)\u001b[49m[:,mask], reduction\u001b[38;5;241m=\u001b[39m\u001b[38;5;124m'\u001b[39m\u001b[38;5;124mmean\u001b[39m\u001b[38;5;124m'\u001b[39m)\n\u001b[1;32m     58\u001b[0m     \u001b[38;5;66;03m#set the loss for the generated input and input\u001b[39;00m\n\u001b[1;32m     59\u001b[0m     sub_loss \u001b[38;5;241m=\u001b[39m \u001b[38;5;241m0\u001b[39m\n",
      "\u001b[0;31mKeyboardInterrupt\u001b[0m: "
     ]
    }
   ],
   "source": [
    "Test_Process(whole_data_with_rotation)"
   ]
  },
  {
   "cell_type": "code",
   "execution_count": null,
   "id": "af29969b",
   "metadata": {},
   "outputs": [],
   "source": []
  },
  {
   "cell_type": "code",
   "execution_count": null,
   "id": "457e3ab0",
   "metadata": {},
   "outputs": [],
   "source": []
  },
  {
   "cell_type": "code",
   "execution_count": null,
   "id": "74c3c3f2",
   "metadata": {},
   "outputs": [],
   "source": []
  },
  {
   "cell_type": "code",
   "execution_count": null,
   "id": "bd6c1865",
   "metadata": {},
   "outputs": [],
   "source": []
  },
  {
   "cell_type": "code",
   "execution_count": null,
   "id": "7cb3d97a",
   "metadata": {},
   "outputs": [],
   "source": []
  },
  {
   "cell_type": "code",
   "execution_count": null,
   "id": "764afa11",
   "metadata": {},
   "outputs": [],
   "source": []
  },
  {
   "cell_type": "code",
   "execution_count": null,
   "id": "1d8e52c1",
   "metadata": {},
   "outputs": [],
   "source": []
  },
  {
   "cell_type": "code",
   "execution_count": null,
   "id": "3ac49bbb",
   "metadata": {},
   "outputs": [],
   "source": []
  }
 ],
 "metadata": {
  "kernelspec": {
   "display_name": "HAWQ",
   "language": "python",
   "name": "hawq"
  },
  "language_info": {
   "codemirror_mode": {
    "name": "ipython",
    "version": 3
   },
   "file_extension": ".py",
   "mimetype": "text/x-python",
   "name": "python",
   "nbconvert_exporter": "python",
   "pygments_lexer": "ipython3",
   "version": "3.10.14"
  }
 },
 "nbformat": 4,
 "nbformat_minor": 5
}
